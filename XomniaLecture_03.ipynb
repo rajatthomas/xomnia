{
 "cells": [
  {
   "cell_type": "code",
   "execution_count": 20,
   "metadata": {},
   "outputs": [],
   "source": [
    "import numpy as np\n",
    "\n",
    "samples = ['The cat sat on the mat', 'The dog ate my homework.']\n",
    "\n",
    "token_index = {}\n",
    "for sample in samples:\n",
    "    for word in sample.split():\n",
    "        if word not in token_index:\n",
    "            token_index[word] = len(token_index) + 1"
   ]
  },
  {
   "cell_type": "code",
   "execution_count": 21,
   "metadata": {},
   "outputs": [
    {
     "data": {
      "text/plain": [
       "{'The': 1,\n",
       " 'ate': 8,\n",
       " 'cat': 2,\n",
       " 'dog': 7,\n",
       " 'homework.': 10,\n",
       " 'mat': 6,\n",
       " 'my': 9,\n",
       " 'on': 4,\n",
       " 'sat': 3,\n",
       " 'the': 5}"
      ]
     },
     "execution_count": 21,
     "metadata": {},
     "output_type": "execute_result"
    }
   ],
   "source": [
    "token_index"
   ]
  },
  {
   "cell_type": "code",
   "execution_count": 22,
   "metadata": {},
   "outputs": [],
   "source": [
    "max_length=10\n",
    "\n",
    "results = np.zeros(shape=(len(samples), \n",
    "                          max_length, \n",
    "                          max(token_index.values())+1))\n",
    "\n",
    "for i, sample in enumerate(samples):\n",
    "    for j, word in list(enumerate(sample.split()))[:max_length]:\n",
    "        index = token_index.get(word)\n",
    "        results[i, j, index] = 1."
   ]
  },
  {
   "cell_type": "code",
   "execution_count": 23,
   "metadata": {},
   "outputs": [
    {
     "data": {
      "text/plain": [
       "array([[0., 1., 0., 0., 0., 0., 0., 0., 0., 0., 0.],\n",
       "       [0., 0., 1., 0., 0., 0., 0., 0., 0., 0., 0.],\n",
       "       [0., 0., 0., 1., 0., 0., 0., 0., 0., 0., 0.],\n",
       "       [0., 0., 0., 0., 1., 0., 0., 0., 0., 0., 0.],\n",
       "       [0., 0., 0., 0., 0., 1., 0., 0., 0., 0., 0.],\n",
       "       [0., 0., 0., 0., 0., 0., 1., 0., 0., 0., 0.],\n",
       "       [0., 0., 0., 0., 0., 0., 0., 0., 0., 0., 0.],\n",
       "       [0., 0., 0., 0., 0., 0., 0., 0., 0., 0., 0.],\n",
       "       [0., 0., 0., 0., 0., 0., 0., 0., 0., 0., 0.],\n",
       "       [0., 0., 0., 0., 0., 0., 0., 0., 0., 0., 0.]])"
      ]
     },
     "execution_count": 23,
     "metadata": {},
     "output_type": "execute_result"
    }
   ],
   "source": [
    "results[0]"
   ]
  },
  {
   "cell_type": "code",
   "execution_count": 24,
   "metadata": {},
   "outputs": [
    {
     "name": "stdout",
     "output_type": "stream",
     "text": [
      "Found 9 unique tokens.\n"
     ]
    }
   ],
   "source": [
    "# Using Keras\n",
    "\n",
    "from keras.preprocessing.text import Tokenizer\n",
    "\n",
    "samples = ['The cat sat on the mat', 'The dog ate my homework.']\n",
    "\n",
    "# Initialize a tokenizer\n",
    "tokenizer = Tokenizer(num_words=1000)\n",
    "tokenizer.fit_on_texts(samples)\n",
    "\n",
    "sequences = tokenizer.texts_to_sequences(samples)\n",
    "one_hot_results = tokenizer.texts_to_matrix(samples, mode='binary')\n",
    "\n",
    "word_index = tokenizer.word_index\n",
    "print('Found %s unique tokens.' % len(word_index))"
   ]
  },
  {
   "cell_type": "code",
   "execution_count": 34,
   "metadata": {},
   "outputs": [
    {
     "data": {
      "text/plain": [
       "{'ate': 7,\n",
       " 'cat': 2,\n",
       " 'dog': 6,\n",
       " 'homework': 9,\n",
       " 'mat': 5,\n",
       " 'my': 8,\n",
       " 'on': 4,\n",
       " 'sat': 3,\n",
       " 'the': 1}"
      ]
     },
     "execution_count": 34,
     "metadata": {},
     "output_type": "execute_result"
    }
   ],
   "source": [
    "word_index # keras does a few things more"
   ]
  },
  {
   "cell_type": "code",
   "execution_count": 35,
   "metadata": {},
   "outputs": [],
   "source": [
    "from keras.datasets import imdb\n",
    "from keras import preprocessing\n",
    "\n",
    "max_features = 10000\n",
    "maxlen = 20\n",
    "\n",
    "(x_train, y_train), (x_test, y_test) = imdb.load_data(\n",
    "    num_words=max_features)"
   ]
  },
  {
   "cell_type": "code",
   "execution_count": 47,
   "metadata": {},
   "outputs": [],
   "source": [
    "x_train = preprocessing.sequence.pad_sequences(x_train, maxlen=maxlen)\n",
    "x_test = preprocessing.sequence.pad_sequences(x_test, maxlen=maxlen)"
   ]
  },
  {
   "cell_type": "code",
   "execution_count": 50,
   "metadata": {},
   "outputs": [
    {
     "name": "stdout",
     "output_type": "stream",
     "text": [
      "_________________________________________________________________\n",
      "Layer (type)                 Output Shape              Param #   \n",
      "=================================================================\n",
      "embedding_2 (Embedding)      (None, 20, 8)             80000     \n",
      "_________________________________________________________________\n",
      "flatten_3 (Flatten)          (None, 160)               0         \n",
      "_________________________________________________________________\n",
      "dense_4 (Dense)              (None, 1)                 161       \n",
      "=================================================================\n",
      "Total params: 80,161\n",
      "Trainable params: 80,161\n",
      "Non-trainable params: 0\n",
      "_________________________________________________________________\n"
     ]
    }
   ],
   "source": [
    "from keras.models import Sequential\n",
    "from keras.layers import Flatten, Dense\n",
    "from keras.layers import Embedding\n",
    "model = Sequential()\n",
    "model.add(Embedding(10000, 8, input_length=maxlen))\n",
    "model.add(Flatten())\n",
    "model.add(Dense(1, activation='sigmoid'))\n",
    "model.compile(optimizer='rmsprop', loss='binary_crossentropy', metrics=['acc'])\n",
    "model.summary()"
   ]
  },
  {
   "cell_type": "code",
   "execution_count": 51,
   "metadata": {},
   "outputs": [
    {
     "name": "stdout",
     "output_type": "stream",
     "text": [
      "Train on 20000 samples, validate on 5000 samples\n",
      "Epoch 1/10\n",
      "20000/20000 [==============================] - 0s 24us/step - loss: 0.6714 - acc: 0.6163 - val_loss: 0.6186 - val_acc: 0.7076\n",
      "Epoch 2/10\n",
      "20000/20000 [==============================] - 1s 32us/step - loss: 0.5399 - acc: 0.7525 - val_loss: 0.5184 - val_acc: 0.7446\n",
      "Epoch 3/10\n",
      "20000/20000 [==============================] - 1s 28us/step - loss: 0.4600 - acc: 0.7865 - val_loss: 0.4919 - val_acc: 0.7558\n",
      "Epoch 4/10\n",
      "20000/20000 [==============================] - 1s 31us/step - loss: 0.4221 - acc: 0.8079 - val_loss: 0.4860 - val_acc: 0.7602\n",
      "Epoch 5/10\n",
      "20000/20000 [==============================] - 1s 30us/step - loss: 0.3968 - acc: 0.8220 - val_loss: 0.4846 - val_acc: 0.7626\n",
      "Epoch 6/10\n",
      "20000/20000 [==============================] - 1s 30us/step - loss: 0.3753 - acc: 0.8344 - val_loss: 0.4871 - val_acc: 0.7652\n",
      "Epoch 7/10\n",
      "20000/20000 [==============================] - 1s 30us/step - loss: 0.3569 - acc: 0.8457 - val_loss: 0.4913 - val_acc: 0.7644\n",
      "Epoch 8/10\n",
      "20000/20000 [==============================] - 1s 29us/step - loss: 0.3395 - acc: 0.8532 - val_loss: 0.4968 - val_acc: 0.7596\n",
      "Epoch 9/10\n",
      "20000/20000 [==============================] - 1s 31us/step - loss: 0.3227 - acc: 0.8631 - val_loss: 0.5047 - val_acc: 0.7580\n",
      "Epoch 10/10\n",
      "20000/20000 [==============================] - 1s 30us/step - loss: 0.3060 - acc: 0.8736 - val_loss: 0.5120 - val_acc: 0.7572\n"
     ]
    }
   ],
   "source": [
    "history = model.fit(x_train, y_train,\n",
    "                   epochs=10,\n",
    "                   batch_size=32,\n",
    "                   validation_split=0.2)"
   ]
  },
  {
   "cell_type": "code",
   "execution_count": 116,
   "metadata": {},
   "outputs": [],
   "source": [
    "# From scratch using word-embeddings\n",
    "\n",
    "# Download from http://mng.bz/0tIo (uncompress it.)\n",
    "import os\n",
    "\n",
    "imdb_dir = './aclImdb'\n",
    "train_dir = os.path.join(imdb_dir, 'train')\n",
    "\n",
    "labels = []\n",
    "texts = []\n",
    "\n",
    "for label_type in ['neg', 'pos']:\n",
    "    dir_name = os.path.join(train_dir, label_type)\n",
    "    for fname in os.listdir(dir_name):\n",
    "        if fname[-4:] == '.txt':\n",
    "            f = open(os.path.join(dir_name, fname))\n",
    "            texts.append((f.read()))\n",
    "            f.close()\n",
    "            if label_type == 'neg':\n",
    "                labels.append(0)\n",
    "            else:\n",
    "                labels.append(1)"
   ]
  },
  {
   "cell_type": "code",
   "execution_count": 118,
   "metadata": {},
   "outputs": [
    {
     "data": {
      "text/plain": [
       "'As a teenager, I was pretty into the whole Bigfoot thing - I read the books and followed the reported sightings. As a more jaded adult, I\\'ve largely given up on the big guy now, but don\\'t mind watching the odd movie when I come across one. This one had a few strong points to it - mainly, the recreations of two of the more famous Bigfoot encounters - the Ape Canyon incident of 1924 and the Bauman incident of c.1850 as related to and by Teddy Roosevelt, both of which I\\'m somewhat familiar with from that youthful reading I did. The movie takes for granted that both incidents involved a sasquatch, whereas both incidents have more plausible explanations, but the recreations were well done. There\\'s also homage paid at the beginning of the movie to the famous Patterson video, again taking for granted its authenticity. The sasquatch encounter at the end of the movie was also very well done and had a very creepy feel to it as the sasquatch were portrayed mainly in the shadows or as hairy feet running past the terrified men. Unfortunately, in total those four things might have composed about 20 minutes, whereas the movie as a whole is slightly over an hour and a half.<br /><br />It\\'s the fictional story (done in a documentary style) of an expedition to a remote area of northern British Columbia, to the suspected home range of the sasquatch. A computer had targeted this area based on sightings and - in one of the more amusing scenes in the movie - the computer also used \"eyewitness sightings\" to draw a picture of a sasquatch that looked exactly like the \"creature\" of the Patterson video! Aside from those 20 minutes I mentioned, we basically watch this expedition travel, which means we get to watch a bunch of guys go on a long camping trip. I\\'ve been on camping trips with the guys. Let me tell you - they\\'ve never been worthy of a movie. Interspersed among the long stretches of boredom are some nice wildlife shots (although one suspects that canned footage was used, or perhaps even captive animals performing as wild animals) and there are some spectacular scenery shots, except that the scenery isn\\'t of northern British Columbia, it\\'s from national parks in Oregon.<br /><br />I did appreciate that we were never given a real picture of the sasquatch, so we didn\\'t have to deal with the bad makeup that would have been part of this. 3/10'"
      ]
     },
     "execution_count": 118,
     "metadata": {},
     "output_type": "execute_result"
    }
   ],
   "source": [
    "texts[0]"
   ]
  },
  {
   "cell_type": "code",
   "execution_count": 119,
   "metadata": {},
   "outputs": [],
   "source": [
    "from keras.preprocessing.text import Tokenizer\n",
    "from keras.preprocessing.sequence import pad_sequences\n",
    "\n",
    "import numpy as np\n",
    "\n",
    "maxlen = 100\n",
    "training_samples = 200\n",
    "validation_samples = 10000\n",
    "max_words = 10000\n",
    "\n",
    "tokenizer = Tokenizer(num_words=max_words)\n",
    "tokenizer.fit_on_texts(texts)\n",
    "sequences = tokenizer.texts_to_sequences(texts)"
   ]
  },
  {
   "cell_type": "code",
   "execution_count": 122,
   "metadata": {},
   "outputs": [
    {
     "data": {
      "text/plain": [
       "[14,\n",
       " 3,\n",
       " 2338,\n",
       " 10,\n",
       " 13,\n",
       " 181,\n",
       " 80,\n",
       " 1,\n",
       " 223,\n",
       " 8422,\n",
       " 151,\n",
       " 10,\n",
       " 329,\n",
       " 1,\n",
       " 1148,\n",
       " 2,\n",
       " 1474,\n",
       " 1,\n",
       " 8169,\n",
       " 14,\n",
       " 3,\n",
       " 50,\n",
       " 6627,\n",
       " 1155,\n",
       " 204,\n",
       " 2253,\n",
       " 345,\n",
       " 53,\n",
       " 20,\n",
       " 1,\n",
       " 191,\n",
       " 229,\n",
       " 147,\n",
       " 18,\n",
       " 89,\n",
       " 327,\n",
       " 146,\n",
       " 1,\n",
       " 1028,\n",
       " 17,\n",
       " 51,\n",
       " 10,\n",
       " 213,\n",
       " 635,\n",
       " 28,\n",
       " 11,\n",
       " 28,\n",
       " 66,\n",
       " 3,\n",
       " 168,\n",
       " 562,\n",
       " 753,\n",
       " 5,\n",
       " 9,\n",
       " 1418,\n",
       " 1,\n",
       " 4,\n",
       " 104,\n",
       " 4,\n",
       " 1,\n",
       " 50,\n",
       " 800,\n",
       " 8422,\n",
       " 3264,\n",
       " 1,\n",
       " 4174,\n",
       " 5399,\n",
       " 3840,\n",
       " 4,\n",
       " 2,\n",
       " 1,\n",
       " 3840,\n",
       " 4,\n",
       " 1144,\n",
       " 14,\n",
       " 2463,\n",
       " 5,\n",
       " 2,\n",
       " 31,\n",
       " 8926,\n",
       " 196,\n",
       " 4,\n",
       " 60,\n",
       " 143,\n",
       " 640,\n",
       " 1076,\n",
       " 16,\n",
       " 36,\n",
       " 12,\n",
       " 6192,\n",
       " 883,\n",
       " 10,\n",
       " 119,\n",
       " 1,\n",
       " 17,\n",
       " 301,\n",
       " 15,\n",
       " 2471,\n",
       " 12,\n",
       " 196,\n",
       " 7093,\n",
       " 571,\n",
       " 3,\n",
       " 8595,\n",
       " 3129,\n",
       " 196,\n",
       " 7093,\n",
       " 25,\n",
       " 50,\n",
       " 4760,\n",
       " 8775,\n",
       " 18,\n",
       " 1,\n",
       " 68,\n",
       " 70,\n",
       " 221,\n",
       " 222,\n",
       " 79,\n",
       " 3475,\n",
       " 1534,\n",
       " 30,\n",
       " 1,\n",
       " 451,\n",
       " 4,\n",
       " 1,\n",
       " 17,\n",
       " 5,\n",
       " 1,\n",
       " 800,\n",
       " 371,\n",
       " 171,\n",
       " 653,\n",
       " 15,\n",
       " 2471,\n",
       " 91,\n",
       " 6259,\n",
       " 1,\n",
       " 8595,\n",
       " 2781,\n",
       " 30,\n",
       " 1,\n",
       " 127,\n",
       " 4,\n",
       " 1,\n",
       " 17,\n",
       " 13,\n",
       " 79,\n",
       " 52,\n",
       " 70,\n",
       " 221,\n",
       " 2,\n",
       " 66,\n",
       " 3,\n",
       " 52,\n",
       " 944,\n",
       " 231,\n",
       " 5,\n",
       " 9,\n",
       " 14,\n",
       " 1,\n",
       " 8595,\n",
       " 68,\n",
       " 996,\n",
       " 1418,\n",
       " 8,\n",
       " 1,\n",
       " 3765,\n",
       " 39,\n",
       " 14,\n",
       " 8423,\n",
       " 2186,\n",
       " 617,\n",
       " 498,\n",
       " 1,\n",
       " 5621,\n",
       " 346,\n",
       " 469,\n",
       " 8,\n",
       " 959,\n",
       " 145,\n",
       " 685,\n",
       " 180,\n",
       " 235,\n",
       " 25,\n",
       " 3930,\n",
       " 41,\n",
       " 888,\n",
       " 232,\n",
       " 3129,\n",
       " 1,\n",
       " 17,\n",
       " 14,\n",
       " 3,\n",
       " 223,\n",
       " 6,\n",
       " 1072,\n",
       " 117,\n",
       " 32,\n",
       " 531,\n",
       " 2,\n",
       " 3,\n",
       " 317,\n",
       " 7,\n",
       " 7,\n",
       " 42,\n",
       " 1,\n",
       " 2602,\n",
       " 62,\n",
       " 221,\n",
       " 8,\n",
       " 3,\n",
       " 659,\n",
       " 402,\n",
       " 4,\n",
       " 32,\n",
       " 5120,\n",
       " 5,\n",
       " 3,\n",
       " 2932,\n",
       " 1605,\n",
       " 4,\n",
       " 5924,\n",
       " 695,\n",
       " 7094,\n",
       " 5,\n",
       " 1,\n",
       " 6628,\n",
       " 341,\n",
       " 2196,\n",
       " 4,\n",
       " 1,\n",
       " 8595,\n",
       " 3,\n",
       " 1217,\n",
       " 66,\n",
       " 7364,\n",
       " 11,\n",
       " 1605,\n",
       " 445,\n",
       " 20,\n",
       " 2,\n",
       " 8,\n",
       " 28,\n",
       " 4,\n",
       " 1,\n",
       " 50,\n",
       " 1135,\n",
       " 136,\n",
       " 8,\n",
       " 1,\n",
       " 17,\n",
       " 1,\n",
       " 1217,\n",
       " 79,\n",
       " 340,\n",
       " 5,\n",
       " 2502,\n",
       " 3,\n",
       " 428,\n",
       " 4,\n",
       " 3,\n",
       " 8595,\n",
       " 12,\n",
       " 605,\n",
       " 614,\n",
       " 37,\n",
       " 1,\n",
       " 1656,\n",
       " 4,\n",
       " 1,\n",
       " 371,\n",
       " 1209,\n",
       " 36,\n",
       " 145,\n",
       " 888,\n",
       " 232,\n",
       " 10,\n",
       " 1043,\n",
       " 72,\n",
       " 688,\n",
       " 103,\n",
       " 11,\n",
       " 5120,\n",
       " 2103,\n",
       " 60,\n",
       " 814,\n",
       " 72,\n",
       " 76,\n",
       " 5,\n",
       " 103,\n",
       " 3,\n",
       " 758,\n",
       " 4,\n",
       " 490,\n",
       " 137,\n",
       " 20,\n",
       " 3,\n",
       " 193,\n",
       " 7693,\n",
       " 1184,\n",
       " 204,\n",
       " 74,\n",
       " 20,\n",
       " 7693,\n",
       " 16,\n",
       " 1,\n",
       " 490,\n",
       " 384,\n",
       " 69,\n",
       " 373,\n",
       " 22,\n",
       " 2032,\n",
       " 112,\n",
       " 74,\n",
       " 1513,\n",
       " 4,\n",
       " 3,\n",
       " 17,\n",
       " 9092,\n",
       " 790,\n",
       " 1,\n",
       " 193,\n",
       " 9093,\n",
       " 4,\n",
       " 3249,\n",
       " 23,\n",
       " 46,\n",
       " 324,\n",
       " 660,\n",
       " 258,\n",
       " 28,\n",
       " 3070,\n",
       " 12,\n",
       " 926,\n",
       " 13,\n",
       " 340,\n",
       " 39,\n",
       " 378,\n",
       " 57,\n",
       " 8424,\n",
       " 1383,\n",
       " 3432,\n",
       " 14,\n",
       " 1355,\n",
       " 1383,\n",
       " 2,\n",
       " 47,\n",
       " 23,\n",
       " 46,\n",
       " 2086,\n",
       " 1381,\n",
       " 660,\n",
       " 546,\n",
       " 12,\n",
       " 1,\n",
       " 1381,\n",
       " 215,\n",
       " 4,\n",
       " 5924,\n",
       " 695,\n",
       " 7094,\n",
       " 42,\n",
       " 36,\n",
       " 2078,\n",
       " 8596,\n",
       " 8,\n",
       " 7,\n",
       " 7,\n",
       " 10,\n",
       " 119,\n",
       " 1141,\n",
       " 12,\n",
       " 72,\n",
       " 68,\n",
       " 112,\n",
       " 345,\n",
       " 3,\n",
       " 144,\n",
       " 428,\n",
       " 4,\n",
       " 1,\n",
       " 8595,\n",
       " 35,\n",
       " 72,\n",
       " 158,\n",
       " 25,\n",
       " 5,\n",
       " 852,\n",
       " 16,\n",
       " 1,\n",
       " 75,\n",
       " 2425,\n",
       " 12,\n",
       " 59,\n",
       " 25,\n",
       " 74,\n",
       " 170,\n",
       " 4,\n",
       " 11,\n",
       " 339,\n",
       " 155]"
      ]
     },
     "execution_count": 122,
     "metadata": {},
     "output_type": "execute_result"
    }
   ],
   "source": [
    "sequences[0]"
   ]
  },
  {
   "cell_type": "code",
   "execution_count": 123,
   "metadata": {},
   "outputs": [
    {
     "name": "stdout",
     "output_type": "stream",
     "text": [
      "Found 88582 unique tokens.\n",
      "Shape of data tensor: (25000, 100)\n",
      "Shape of label tensor: (25000,)\n"
     ]
    }
   ],
   "source": [
    "word_index = tokenizer.word_index\n",
    "print('Found %s unique tokens.' % (len(word_index)))\n",
    "\n",
    "data = pad_sequences(sequences, maxlen=maxlen)\n",
    "\n",
    "labels = np.asarray(labels)\n",
    "print('Shape of data tensor:', data.shape)\n",
    "print('Shape of label tensor:', labels.shape)\n",
    "\n",
    "indices = np.arange(data.shape[0])\n",
    "np.random.shuffle(indices)\n",
    "\n",
    "data = data[indices]\n",
    "labels = labels[indices]\n",
    "\n",
    "x_train = data[:training_samples]\n",
    "y_train = labels[:training_samples]\n",
    "\n",
    "x_val = data[training_samples: training_samples + validation_samples]\n",
    "y_val = labels[training_samples: training_samples + validation_samples]\n"
   ]
  },
  {
   "cell_type": "code",
   "execution_count": 124,
   "metadata": {},
   "outputs": [
    {
     "name": "stdout",
     "output_type": "stream",
     "text": [
      "Found 400000 word vectors.\n"
     ]
    }
   ],
   "source": [
    "glove_dir = './glove.6B/'\n",
    "\n",
    "embedding_index = {}\n",
    "\n",
    "f = open(os.path.join(glove_dir, 'glove.6B.100d.txt'))\n",
    "\n",
    "for line in f:\n",
    "    values = line.split()\n",
    "    word = values[0]\n",
    "    coefs = np.asarray(values[1:], dtype='float32')\n",
    "    embedding_index[word] = coefs\n",
    "    \n",
    "f.close()\n",
    "\n",
    "print('Found %s word vectors.' % len(embedding_index))"
   ]
  },
  {
   "cell_type": "code",
   "execution_count": 125,
   "metadata": {},
   "outputs": [
    {
     "data": {
      "text/plain": [
       "(100,)"
      ]
     },
     "execution_count": 125,
     "metadata": {},
     "output_type": "execute_result"
    }
   ],
   "source": [
    "embedding_index.get('angry').shape"
   ]
  },
  {
   "cell_type": "code",
   "execution_count": 127,
   "metadata": {},
   "outputs": [
    {
     "data": {
      "text/plain": [
       "'2.0.9'"
      ]
     },
     "execution_count": 127,
     "metadata": {},
     "output_type": "execute_result"
    }
   ],
   "source": [
    "import keras\n",
    "keras.__version__"
   ]
  },
  {
   "cell_type": "code",
   "execution_count": 80,
   "metadata": {},
   "outputs": [],
   "source": [
    "embedding_dim = 100\n",
    "embedding_matrix = np.zeros((max_words, embedding_dim))\n",
    "\n",
    "for word, i in word_index.items():\n",
    "    if i < max_words:\n",
    "        embedding_vector = embedding_index.get(word)\n",
    "        if embedding_vector is not None:\n",
    "            embedding_matrix[i] = embedding_vector"
   ]
  },
  {
   "cell_type": "code",
   "execution_count": 81,
   "metadata": {},
   "outputs": [
    {
     "name": "stdout",
     "output_type": "stream",
     "text": [
      "_________________________________________________________________\n",
      "Layer (type)                 Output Shape              Param #   \n",
      "=================================================================\n",
      "embedding_3 (Embedding)      (None, 100, 100)          1000000   \n",
      "_________________________________________________________________\n",
      "flatten_4 (Flatten)          (None, 10000)             0         \n",
      "_________________________________________________________________\n",
      "dense_5 (Dense)              (None, 32)                320032    \n",
      "_________________________________________________________________\n",
      "dense_6 (Dense)              (None, 1)                 33        \n",
      "=================================================================\n",
      "Total params: 1,320,065\n",
      "Trainable params: 1,320,065\n",
      "Non-trainable params: 0\n",
      "_________________________________________________________________\n"
     ]
    }
   ],
   "source": [
    "model = Sequential()\n",
    "model.add(Embedding(max_words, embedding_dim, input_length=maxlen))\n",
    "model.add(Flatten())\n",
    "model.add(Dense(32, activation='relu'))\n",
    "model.add(Dense(1, activation='sigmoid'))\n",
    "model.summary()"
   ]
  },
  {
   "cell_type": "code",
   "execution_count": 82,
   "metadata": {},
   "outputs": [],
   "source": [
    "model.layers[0].set_weights([embedding_matrix])\n",
    "model.layers[0].trainable = False"
   ]
  },
  {
   "cell_type": "code",
   "execution_count": 83,
   "metadata": {},
   "outputs": [
    {
     "name": "stdout",
     "output_type": "stream",
     "text": [
      "Train on 200 samples, validate on 10000 samples\n",
      "Epoch 1/10\n",
      "200/200 [==============================] - 0s 2ms/step - loss: 1.5421 - acc: 0.5600 - val_loss: 0.6990 - val_acc: 0.5513\n",
      "Epoch 2/10\n",
      "200/200 [==============================] - 0s 2ms/step - loss: 0.6558 - acc: 0.6650 - val_loss: 1.3110 - val_acc: 0.4991\n",
      "Epoch 3/10\n",
      "200/200 [==============================] - 1s 3ms/step - loss: 0.5297 - acc: 0.7100 - val_loss: 0.8183 - val_acc: 0.5356\n",
      "Epoch 4/10\n",
      "200/200 [==============================] - 0s 2ms/step - loss: 0.1823 - acc: 0.9450 - val_loss: 1.2074 - val_acc: 0.5065\n",
      "Epoch 5/10\n",
      "200/200 [==============================] - 1s 3ms/step - loss: 0.2871 - acc: 0.8500 - val_loss: 0.7906 - val_acc: 0.5607\n",
      "Epoch 6/10\n",
      "200/200 [==============================] - 1s 3ms/step - loss: 0.0570 - acc: 1.0000 - val_loss: 0.7399 - val_acc: 0.5757\n",
      "Epoch 7/10\n",
      "200/200 [==============================] - 1s 4ms/step - loss: 0.0347 - acc: 1.0000 - val_loss: 0.8405 - val_acc: 0.5651\n",
      "Epoch 8/10\n",
      "200/200 [==============================] - 1s 7ms/step - loss: 0.0260 - acc: 1.0000 - val_loss: 2.8190 - val_acc: 0.5023\n",
      "Epoch 9/10\n",
      "200/200 [==============================] - 1s 4ms/step - loss: 0.5481 - acc: 0.8400 - val_loss: 0.7805 - val_acc: 0.5761\n",
      "Epoch 10/10\n",
      "200/200 [==============================] - 1s 4ms/step - loss: 0.0140 - acc: 1.0000 - val_loss: 0.7842 - val_acc: 0.5768\n"
     ]
    }
   ],
   "source": [
    "model.compile(optimizer='rmsprop',\n",
    "             loss='binary_crossentropy',\n",
    "             metrics=['acc'])\n",
    "\n",
    "history = model.fit(x_train, y_train,\n",
    "                   epochs=10,\n",
    "                   batch_size=32,\n",
    "                   validation_data=(x_val, y_val))\n",
    "\n",
    "model.save_weights('pre_trained_glove_model.h5')"
   ]
  },
  {
   "cell_type": "code",
   "execution_count": 84,
   "metadata": {},
   "outputs": [
    {
     "data": {
      "text/plain": [
       "<matplotlib.legend.Legend at 0x7f0e0bac2be0>"
      ]
     },
     "execution_count": 84,
     "metadata": {},
     "output_type": "execute_result"
    },
    {
     "data": {
      "image/png": "[encoded data removed]",
      "text/plain": [
       "<matplotlib.figure.Figure at 0x7f0e0ba4b828>"
      ]
     },
     "metadata": {},
     "output_type": "display_data"
    },
    {
     "data": {
      "image/png": "[encoded data removed]",
      "text/plain": [
       "<matplotlib.figure.Figure at 0x7f0e0badb908>"
      ]
     },
     "metadata": {},
     "output_type": "display_data"
    }
   ],
   "source": [
    "%matplotlib inline\n",
    "import matplotlib.pyplot as plt\n",
    "\n",
    "acc = history.history['acc']\n",
    "val_acc = history.history['val_acc']\n",
    "loss = history.history['loss']\n",
    "val_loss = history.history['val_loss']\n",
    "epochs = range(1, len(acc) + 1)\n",
    "\n",
    "plt.plot(epochs, acc, 'bo', label='Training acc')\n",
    "plt.plot(epochs, val_acc, 'b', label='Validation acc')\n",
    "plt.title('Training and validation accuracy')\n",
    "plt.legend()\n",
    "\n",
    "plt.figure()\n",
    "\n",
    "plt.plot(epochs, loss, 'bo', label='Training loss')\n",
    "plt.plot(epochs, val_loss, 'b', label='Validation loss')\n",
    "plt.title('Training and validation loss')\n",
    "plt.legend()\n",
    "\n"
   ]
  },
  {
   "cell_type": "code",
   "execution_count": 85,
   "metadata": {},
   "outputs": [
    {
     "name": "stdout",
     "output_type": "stream",
     "text": [
      "_________________________________________________________________\n",
      "Layer (type)                 Output Shape              Param #   \n",
      "=================================================================\n",
      "embedding_4 (Embedding)      (None, 100, 100)          1000000   \n",
      "_________________________________________________________________\n",
      "flatten_5 (Flatten)          (None, 10000)             0         \n",
      "_________________________________________________________________\n",
      "dense_7 (Dense)              (None, 32)                320032    \n",
      "_________________________________________________________________\n",
      "dense_8 (Dense)              (None, 1)                 33        \n",
      "=================================================================\n",
      "Total params: 1,320,065\n",
      "Trainable params: 1,320,065\n",
      "Non-trainable params: 0\n",
      "_________________________________________________________________\n"
     ]
    }
   ],
   "source": [
    "# Train without pre-trained model\n",
    "\n",
    "from keras.models import Sequential\n",
    "from keras.layers import Embedding, Flatten, Dense\n",
    "\n",
    "model = Sequential()\n",
    "model.add(Embedding(max_words, embedding_dim, input_length=maxlen))\n",
    "model.add(Flatten())\n",
    "model.add(Dense(32, activation='relu'))\n",
    "model.add(Dense(1, activation='sigmoid'))\n",
    "model.summary()"
   ]
  },
  {
   "cell_type": "code",
   "execution_count": 86,
   "metadata": {},
   "outputs": [
    {
     "name": "stdout",
     "output_type": "stream",
     "text": [
      "Train on 200 samples, validate on 10000 samples\n",
      "Epoch 1/10\n",
      "200/200 [==============================] - 0s 2ms/step - loss: 0.6995 - acc: 0.4800 - val_loss: 0.6911 - val_acc: 0.5272\n",
      "Epoch 2/10\n",
      "200/200 [==============================] - 0s 2ms/step - loss: 0.4900 - acc: 0.9750 - val_loss: 0.6899 - val_acc: 0.5353\n",
      "Epoch 3/10\n",
      "200/200 [==============================] - 1s 3ms/step - loss: 0.2578 - acc: 0.9950 - val_loss: 0.7008 - val_acc: 0.5384\n",
      "Epoch 4/10\n",
      "200/200 [==============================] - 1s 3ms/step - loss: 0.1037 - acc: 1.0000 - val_loss: 0.7009 - val_acc: 0.5370\n",
      "Epoch 5/10\n",
      "200/200 [==============================] - 1s 6ms/step - loss: 0.0465 - acc: 1.0000 - val_loss: 0.7016 - val_acc: 0.5417\n",
      "Epoch 6/10\n",
      "200/200 [==============================] - 1s 3ms/step - loss: 0.0238 - acc: 1.0000 - val_loss: 0.7029 - val_acc: 0.5434\n",
      "Epoch 7/10\n",
      "200/200 [==============================] - 1s 3ms/step - loss: 0.0132 - acc: 1.0000 - val_loss: 0.7149 - val_acc: 0.5453\n",
      "Epoch 8/10\n",
      "200/200 [==============================] - 1s 4ms/step - loss: 0.0077 - acc: 1.0000 - val_loss: 0.7166 - val_acc: 0.5466\n",
      "Epoch 9/10\n",
      "200/200 [==============================] - 1s 5ms/step - loss: 0.0046 - acc: 1.0000 - val_loss: 0.7233 - val_acc: 0.5437\n",
      "Epoch 10/10\n",
      "200/200 [==============================] - 0s 2ms/step - loss: 0.0028 - acc: 1.0000 - val_loss: 0.7267 - val_acc: 0.5466\n"
     ]
    }
   ],
   "source": [
    "model.compile(optimizer='rmsprop',\n",
    "                loss='binary_crossentropy',\n",
    "                metrics=['acc'])\n",
    "\n",
    "history = model.fit(x_train, y_train,\n",
    "                    epochs=10,\n",
    "                    batch_size=32,\n",
    "                    validation_data=(x_val, y_val))"
   ]
  },
  {
   "cell_type": "code",
   "execution_count": 87,
   "metadata": {},
   "outputs": [
    {
     "data": {
      "text/plain": [
       "<matplotlib.legend.Legend at 0x7f0e4c2ca3c8>"
      ]
     },
     "execution_count": 87,
     "metadata": {},
     "output_type": "execute_result"
    },
    {
     "data": {
      "image/png": "[encoded data removed]",
      "text/plain": [
       "<matplotlib.figure.Figure at 0x7f0e40a09278>"
      ]
     },
     "metadata": {},
     "output_type": "display_data"
    },
    {
     "data": {
      "image/png": "[encoded data removed]",
      "text/plain": [
       "<matplotlib.figure.Figure at 0x7f0e4c2fd128>"
      ]
     },
     "metadata": {},
     "output_type": "display_data"
    }
   ],
   "source": [
    "%matplotlib inline\n",
    "import matplotlib.pyplot as plt\n",
    "\n",
    "acc = history.history['acc']\n",
    "val_acc = history.history['val_acc']\n",
    "loss = history.history['loss']\n",
    "val_loss = history.history['val_loss']\n",
    "epochs = range(1, len(acc) + 1)\n",
    "\n",
    "plt.plot(epochs, acc, 'bo', label='Training acc')\n",
    "plt.plot(epochs, val_acc, 'b', label='Validation acc')\n",
    "plt.title('Training and validation accuracy')\n",
    "plt.legend()\n",
    "\n",
    "plt.figure()\n",
    "\n",
    "plt.plot(epochs, loss, 'bo', label='Training loss')\n",
    "plt.plot(epochs, val_loss, 'b', label='Validation loss')\n",
    "plt.title('Training and validation loss')\n",
    "plt.legend()\n"
   ]
  },
  {
   "cell_type": "code",
   "execution_count": 88,
   "metadata": {},
   "outputs": [
    {
     "name": "stdout",
     "output_type": "stream",
     "text": [
      "25000/25000 [==============================] - 1s 60us/step\n"
     ]
    },
    {
     "data": {
      "text/plain": [
       "[0.7906434539985657, 0.57672]"
      ]
     },
     "execution_count": 88,
     "metadata": {},
     "output_type": "execute_result"
    }
   ],
   "source": [
    "# Finally test it\n",
    "\n",
    "test_dir = os.path.join(imdb_dir, 'test')\n",
    "\n",
    "labels = []\n",
    "texts = []\n",
    "\n",
    "for label_type in ['neg', 'pos']:\n",
    "    dir_name = os.path.join(test_dir, label_type)\n",
    "    for fname in sorted(os.listdir(dir_name)):\n",
    "        if fname[-4:] == '.txt':\n",
    "            f = open(os.path.join(dir_name, fname))\n",
    "            texts.append(f.read())\n",
    "            f.close()\n",
    "            if label_type == 'neg':\n",
    "                labels.append(0)\n",
    "            else:\n",
    "                labels.append(1)\n",
    "\n",
    "\n",
    "sequences = tokenizer.texts_to_sequences(texts)\n",
    "x_test = pad_sequences(sequences, maxlen=maxlen)\n",
    "y_test = np.asarray(labels)\n",
    "\n",
    "\n",
    "model.load_weights('pre_trained_glove_model.h5')\n",
    "model.evaluate(x_test, y_test)"
   ]
  },
  {
   "cell_type": "code",
   "execution_count": null,
   "metadata": {},
   "outputs": [],
   "source": [
    "# Lets try recurrence\n",
    "\n",
    "# board: SimpleRNN"
   ]
  },
  {
   "cell_type": "code",
   "execution_count": 90,
   "metadata": {},
   "outputs": [
    {
     "name": "stdout",
     "output_type": "stream",
     "text": [
      "Loading data...\n",
      "25000 train sequences\n",
      "25000 test sequences\n",
      "Pad sequences (samples x time)\n",
      "input_train shape: (25000, 500)\n",
      "input_test shape: (25000, 500)\n"
     ]
    }
   ],
   "source": [
    "from keras.datasets import imdb\n",
    "from keras.preprocessing import sequence\n",
    "from keras.models import Sequential\n",
    "from keras.layers import Embedding, SimpleRNN\n",
    "\n",
    "max_features = 10000\n",
    "maxlen = 500\n",
    "batch_size = 32\n",
    "\n",
    "print('Loading data...')\n",
    "\n",
    "(input_train, y_train), (input_test, y_test) = imdb.load_data(\n",
    "                                        num_words=max_features)\n",
    "print(len(input_train), 'train sequences')\n",
    "print(len(input_test), 'test sequences')\n",
    "\n",
    "print('Pad sequences (samples x time)')\n",
    "input_train = sequence.pad_sequences(input_train, maxlen=maxlen)\n",
    "input_test = sequence.pad_sequences(input_test, maxlen=maxlen)\n",
    "\n",
    "print('input_train shape:', input_train.shape)\n",
    "print('input_test shape:', input_test.shape)"
   ]
  },
  {
   "cell_type": "code",
   "execution_count": 91,
   "metadata": {},
   "outputs": [
    {
     "name": "stdout",
     "output_type": "stream",
     "text": [
      "Train on 20000 samples, validate on 5000 samples\n",
      "Epoch 1/10\n",
      "20000/20000 [==============================] - 42s 2ms/step - loss: 0.6260 - acc: 0.6531 - val_loss: 0.4385 - val_acc: 0.8234\n",
      "Epoch 2/10\n",
      "20000/20000 [==============================] - 42s 2ms/step - loss: 0.3843 - acc: 0.8464 - val_loss: 0.4862 - val_acc: 0.7824\n",
      "Epoch 3/10\n",
      "20000/20000 [==============================] - 48s 2ms/step - loss: 0.2962 - acc: 0.8858 - val_loss: 0.3497 - val_acc: 0.8640\n",
      "Epoch 4/10\n",
      "20000/20000 [==============================] - 47s 2ms/step - loss: 0.2358 - acc: 0.9093 - val_loss: 0.3421 - val_acc: 0.8630\n",
      "Epoch 5/10\n",
      "20000/20000 [==============================] - 45s 2ms/step - loss: 0.1978 - acc: 0.9264 - val_loss: 0.3847 - val_acc: 0.8646\n",
      "Epoch 6/10\n",
      "20000/20000 [==============================] - 43s 2ms/step - loss: 0.1534 - acc: 0.9458 - val_loss: 0.5148 - val_acc: 0.7782\n",
      "Epoch 7/10\n",
      "20000/20000 [==============================] - 47s 2ms/step - loss: 0.1117 - acc: 0.9625 - val_loss: 0.4241 - val_acc: 0.8574\n",
      "Epoch 8/10\n",
      "20000/20000 [==============================] - 46s 2ms/step - loss: 0.0763 - acc: 0.9757 - val_loss: 0.4665 - val_acc: 0.8386\n",
      "Epoch 9/10\n",
      "20000/20000 [==============================] - 47s 2ms/step - loss: 0.0517 - acc: 0.9838 - val_loss: 0.5600 - val_acc: 0.8192\n",
      "Epoch 10/10\n",
      "20000/20000 [==============================] - 41s 2ms/step - loss: 0.0412 - acc: 0.9886 - val_loss: 0.5314 - val_acc: 0.8456\n"
     ]
    }
   ],
   "source": [
    "from keras.layers import Dense\n",
    "model = Sequential()\n",
    "model.add(Embedding(max_features, 32))\n",
    "model.add(SimpleRNN(32))\n",
    "model.add(Dense(1, activation='sigmoid'))\n",
    "model.compile(optimizer='rmsprop', loss='binary_crossentropy', metrics=['acc'])\n",
    "history = model.fit(input_train, y_train,\n",
    "                    epochs=10,\n",
    "                    batch_size=128,\n",
    "validation_split=0.2)"
   ]
  },
  {
   "cell_type": "code",
   "execution_count": 92,
   "metadata": {},
   "outputs": [
    {
     "data": {
      "text/plain": [
       "<matplotlib.legend.Legend at 0x7f0e0857ce10>"
      ]
     },
     "execution_count": 92,
     "metadata": {},
     "output_type": "execute_result"
    },
    {
     "data": {
      "image/png": "[encoded data removed]",
      "text/plain": [
       "<matplotlib.figure.Figure at 0x7f0e08609470>"
      ]
     },
     "metadata": {},
     "output_type": "display_data"
    },
    {
     "data": {
      "image/png": "[encoded data removed]",
      "text/plain": [
       "<matplotlib.figure.Figure at 0x7f0e085b8160>"
      ]
     },
     "metadata": {},
     "output_type": "display_data"
    }
   ],
   "source": [
    "import matplotlib.pyplot as plt\n",
    "\n",
    "acc = history.history['acc']\n",
    "val_acc = history.history['val_acc']\n",
    "\n",
    "loss = history.history['loss']\n",
    "val_loss = history.history['val_loss']\n",
    "\n",
    "epochs = range(1, len(acc) + 1)\n",
    "plt.plot(epochs, acc, 'bo', label='Training acc')\n",
    "plt.plot(epochs, val_acc, 'b', label='Validation acc')\n",
    "\n",
    "plt.title('Training and validation accuracy')\n",
    "plt.legend()\n",
    "\n",
    "plt.figure()\n",
    "\n",
    "plt.plot(epochs, loss, 'bo', label='Training loss')\n",
    "plt.plot(epochs, val_loss, 'b', label='Validation loss')\n",
    "plt.title('Training and validation loss')\n",
    "plt.legend()"
   ]
  },
  {
   "cell_type": "code",
   "execution_count": 93,
   "metadata": {},
   "outputs": [
    {
     "name": "stdout",
     "output_type": "stream",
     "text": [
      "Train on 20000 samples, validate on 5000 samples\n",
      "Epoch 1/10\n",
      "20000/20000 [==============================] - 139s 7ms/step - loss: 0.5130 - acc: 0.7590 - val_loss: 0.3860 - val_acc: 0.8464\n",
      "Epoch 2/10\n",
      "20000/20000 [==============================] - 115s 6ms/step - loss: 0.2882 - acc: 0.8873 - val_loss: 0.3298 - val_acc: 0.8648\n",
      "Epoch 3/10\n",
      "20000/20000 [==============================] - 111s 6ms/step - loss: 0.2270 - acc: 0.9126 - val_loss: 0.4698 - val_acc: 0.8150\n",
      "Epoch 4/10\n",
      "20000/20000 [==============================] - 112s 6ms/step - loss: 0.2011 - acc: 0.9256 - val_loss: 0.3550 - val_acc: 0.8504\n",
      "Epoch 5/10\n",
      "20000/20000 [==============================] - 114s 6ms/step - loss: 0.1791 - acc: 0.9341 - val_loss: 0.3230 - val_acc: 0.8860\n",
      "Epoch 6/10\n",
      "20000/20000 [==============================] - 119s 6ms/step - loss: 0.1589 - acc: 0.9434 - val_loss: 0.3248 - val_acc: 0.8634\n",
      "Epoch 7/10\n",
      "20000/20000 [==============================] - 118s 6ms/step - loss: 0.1396 - acc: 0.9495 - val_loss: 0.4228 - val_acc: 0.8286\n",
      "Epoch 8/10\n",
      "20000/20000 [==============================] - 120s 6ms/step - loss: 0.1291 - acc: 0.9550 - val_loss: 0.3528 - val_acc: 0.8664\n",
      "Epoch 9/10\n",
      "20000/20000 [==============================] - 116s 6ms/step - loss: 0.1194 - acc: 0.9583 - val_loss: 0.3331 - val_acc: 0.8710\n",
      "Epoch 10/10\n",
      "20000/20000 [==============================] - 129s 6ms/step - loss: 0.1122 - acc: 0.9612 - val_loss: 0.3376 - val_acc: 0.8692\n"
     ]
    }
   ],
   "source": [
    "# LSTM\n",
    "\n",
    "from keras.layers import LSTM\n",
    "model = Sequential()\n",
    "model.add(Embedding(max_features, 32))\n",
    "model.add(LSTM(32))\n",
    "model.add(Dense(1, activation='sigmoid'))\n",
    "model.compile(optimizer='rmsprop',\n",
    "loss='binary_crossentropy',\n",
    "metrics=['acc'])\n",
    "history = model.fit(input_train, y_train,\n",
    "epochs=10,\n",
    "batch_size=128,\n",
    "validation_split=0.2)"
   ]
  },
  {
   "cell_type": "code",
   "execution_count": 94,
   "metadata": {},
   "outputs": [
    {
     "data": {
      "text/plain": [
       "<matplotlib.legend.Legend at 0x7f0df5a18240>"
      ]
     },
     "execution_count": 94,
     "metadata": {},
     "output_type": "execute_result"
    },
    {
     "data": {
      "image/png": "[encoded data removed]",
      "text/plain": [
       "<matplotlib.figure.Figure at 0x7f0df5b63358>"
      ]
     },
     "metadata": {},
     "output_type": "display_data"
    },
    {
     "data": {
      "image/png": "[encoded data removed]",
      "text/plain": [
       "<matplotlib.figure.Figure at 0x7f0df5a4d240>"
      ]
     },
     "metadata": {},
     "output_type": "display_data"
    }
   ],
   "source": [
    "acc = history.history['acc']\n",
    "val_acc = history.history['val_acc']\n",
    "\n",
    "loss = history.history['loss']\n",
    "val_loss = history.history['val_loss']\n",
    "\n",
    "epochs = range(1, len(acc) + 1)\n",
    "plt.plot(epochs, acc, 'bo', label='Training acc')\n",
    "plt.plot(epochs, val_acc, 'b', label='Validation acc')\n",
    "\n",
    "plt.title('Training and validation accuracy')\n",
    "plt.legend()\n",
    "\n",
    "plt.figure()\n",
    "\n",
    "plt.plot(epochs, loss, 'bo', label='Training loss')\n",
    "plt.plot(epochs, val_loss, 'b', label='Validation loss')\n",
    "plt.title('Training and validation loss')\n",
    "plt.legend()"
   ]
  },
  {
   "cell_type": "code",
   "execution_count": 95,
   "metadata": {},
   "outputs": [
    {
     "name": "stdout",
     "output_type": "stream",
     "text": [
      "['\"Date Time\"', '\"p (mbar)\"', '\"T (degC)\"', '\"Tpot (K)\"', '\"Tdew (degC)\"', '\"rh (%)\"', '\"VPmax (mbar)\"', '\"VPact (mbar)\"', '\"VPdef (mbar)\"', '\"sh (g/kg)\"', '\"H2OC (mmol/mol)\"', '\"rho (g/m**3)\"', '\"wv (m/s)\"', '\"max. wv (m/s)\"', '\"wd (deg)\"']\n",
      "420551\n"
     ]
    }
   ],
   "source": [
    "# A temperature-forecasting problem\n",
    "\n",
    "import os\n",
    "\n",
    "data_dir = './jena_climate/'\n",
    "fname = os.path.join(data_dir, 'jena_climate_2009_2016.csv')\n",
    "\n",
    "f = open(fname)\n",
    "data = f.read()\n",
    "f.close()\n",
    "\n",
    "lines = data.split('\\n')\n",
    "header = lines[0].split(',')\n",
    "lines = lines[1:]\n",
    "\n",
    "print(header)\n",
    "print(len(lines))\n"
   ]
  },
  {
   "cell_type": "code",
   "execution_count": 96,
   "metadata": {},
   "outputs": [],
   "source": [
    "import numpy as np\n",
    "\n",
    "float_data = np.zeros((len(lines), len(header) -1))\n",
    "\n",
    "for i, line in enumerate(lines):\n",
    "    values = [float(x) for x in line.split(',')[1:]]\n",
    "    float_data[i,:] = values"
   ]
  },
  {
   "cell_type": "code",
   "execution_count": 97,
   "metadata": {},
   "outputs": [
    {
     "data": {
      "text/html": [
       "<div>\n",
       "<style scoped>\n",
       "    .dataframe tbody tr th:only-of-type {\n",
       "        vertical-align: middle;\n",
       "    }\n",
       "\n",
       "    .dataframe tbody tr th {\n",
       "        vertical-align: top;\n",
       "    }\n",
       "\n",
       "    .dataframe thead th {\n",
       "        text-align: right;\n",
       "    }\n",
       "</style>\n",
       "<table border=\"1\" class=\"dataframe\">\n",
       "  <thead>\n",
       "    <tr style=\"text-align: right;\">\n",
       "      <th></th>\n",
       "      <th>Date Time</th>\n",
       "      <th>p (mbar)</th>\n",
       "      <th>T (degC)</th>\n",
       "      <th>Tpot (K)</th>\n",
       "      <th>Tdew (degC)</th>\n",
       "      <th>rh (%)</th>\n",
       "      <th>VPmax (mbar)</th>\n",
       "      <th>VPact (mbar)</th>\n",
       "      <th>VPdef (mbar)</th>\n",
       "      <th>sh (g/kg)</th>\n",
       "      <th>H2OC (mmol/mol)</th>\n",
       "      <th>rho (g/m**3)</th>\n",
       "      <th>wv (m/s)</th>\n",
       "      <th>max. wv (m/s)</th>\n",
       "      <th>wd (deg)</th>\n",
       "    </tr>\n",
       "  </thead>\n",
       "  <tbody>\n",
       "    <tr>\n",
       "      <th>0</th>\n",
       "      <td>01.01.2009 00:10:00</td>\n",
       "      <td>996.52</td>\n",
       "      <td>-8.02</td>\n",
       "      <td>265.40</td>\n",
       "      <td>-8.90</td>\n",
       "      <td>93.3</td>\n",
       "      <td>3.33</td>\n",
       "      <td>3.11</td>\n",
       "      <td>0.22</td>\n",
       "      <td>1.94</td>\n",
       "      <td>3.12</td>\n",
       "      <td>1307.75</td>\n",
       "      <td>1.03</td>\n",
       "      <td>1.75</td>\n",
       "      <td>152.3</td>\n",
       "    </tr>\n",
       "    <tr>\n",
       "      <th>1</th>\n",
       "      <td>01.01.2009 00:20:00</td>\n",
       "      <td>996.57</td>\n",
       "      <td>-8.41</td>\n",
       "      <td>265.01</td>\n",
       "      <td>-9.28</td>\n",
       "      <td>93.4</td>\n",
       "      <td>3.23</td>\n",
       "      <td>3.02</td>\n",
       "      <td>0.21</td>\n",
       "      <td>1.89</td>\n",
       "      <td>3.03</td>\n",
       "      <td>1309.80</td>\n",
       "      <td>0.72</td>\n",
       "      <td>1.50</td>\n",
       "      <td>136.1</td>\n",
       "    </tr>\n",
       "    <tr>\n",
       "      <th>2</th>\n",
       "      <td>01.01.2009 00:30:00</td>\n",
       "      <td>996.53</td>\n",
       "      <td>-8.51</td>\n",
       "      <td>264.91</td>\n",
       "      <td>-9.31</td>\n",
       "      <td>93.9</td>\n",
       "      <td>3.21</td>\n",
       "      <td>3.01</td>\n",
       "      <td>0.20</td>\n",
       "      <td>1.88</td>\n",
       "      <td>3.02</td>\n",
       "      <td>1310.24</td>\n",
       "      <td>0.19</td>\n",
       "      <td>0.63</td>\n",
       "      <td>171.6</td>\n",
       "    </tr>\n",
       "    <tr>\n",
       "      <th>3</th>\n",
       "      <td>01.01.2009 00:40:00</td>\n",
       "      <td>996.51</td>\n",
       "      <td>-8.31</td>\n",
       "      <td>265.12</td>\n",
       "      <td>-9.07</td>\n",
       "      <td>94.2</td>\n",
       "      <td>3.26</td>\n",
       "      <td>3.07</td>\n",
       "      <td>0.19</td>\n",
       "      <td>1.92</td>\n",
       "      <td>3.08</td>\n",
       "      <td>1309.19</td>\n",
       "      <td>0.34</td>\n",
       "      <td>0.50</td>\n",
       "      <td>198.0</td>\n",
       "    </tr>\n",
       "    <tr>\n",
       "      <th>4</th>\n",
       "      <td>01.01.2009 00:50:00</td>\n",
       "      <td>996.51</td>\n",
       "      <td>-8.27</td>\n",
       "      <td>265.15</td>\n",
       "      <td>-9.04</td>\n",
       "      <td>94.1</td>\n",
       "      <td>3.27</td>\n",
       "      <td>3.08</td>\n",
       "      <td>0.19</td>\n",
       "      <td>1.92</td>\n",
       "      <td>3.09</td>\n",
       "      <td>1309.00</td>\n",
       "      <td>0.32</td>\n",
       "      <td>0.63</td>\n",
       "      <td>214.3</td>\n",
       "    </tr>\n",
       "  </tbody>\n",
       "</table>\n",
       "</div>"
      ],
      "text/plain": [
       "             Date Time  p (mbar)  T (degC)  Tpot (K)  Tdew (degC)  rh (%)  \\\n",
       "0  01.01.2009 00:10:00    996.52     -8.02    265.40        -8.90    93.3   \n",
       "1  01.01.2009 00:20:00    996.57     -8.41    265.01        -9.28    93.4   \n",
       "2  01.01.2009 00:30:00    996.53     -8.51    264.91        -9.31    93.9   \n",
       "3  01.01.2009 00:40:00    996.51     -8.31    265.12        -9.07    94.2   \n",
       "4  01.01.2009 00:50:00    996.51     -8.27    265.15        -9.04    94.1   \n",
       "\n",
       "   VPmax (mbar)  VPact (mbar)  VPdef (mbar)  sh (g/kg)  H2OC (mmol/mol)  \\\n",
       "0          3.33          3.11          0.22       1.94             3.12   \n",
       "1          3.23          3.02          0.21       1.89             3.03   \n",
       "2          3.21          3.01          0.20       1.88             3.02   \n",
       "3          3.26          3.07          0.19       1.92             3.08   \n",
       "4          3.27          3.08          0.19       1.92             3.09   \n",
       "\n",
       "   rho (g/m**3)  wv (m/s)  max. wv (m/s)  wd (deg)  \n",
       "0       1307.75      1.03           1.75     152.3  \n",
       "1       1309.80      0.72           1.50     136.1  \n",
       "2       1310.24      0.19           0.63     171.6  \n",
       "3       1309.19      0.34           0.50     198.0  \n",
       "4       1309.00      0.32           0.63     214.3  "
      ]
     },
     "execution_count": 97,
     "metadata": {},
     "output_type": "execute_result"
    }
   ],
   "source": [
    "import pandas as pd\n",
    "\n",
    "df = pd.read_csv('jena_climate/jena_climate_2009_2016.csv')\n",
    "float_data=df.as_matrix(columns=df.columns[1:])\n",
    "\n",
    "df.head()"
   ]
  },
  {
   "cell_type": "code",
   "execution_count": 98,
   "metadata": {},
   "outputs": [
    {
     "data": {
      "text/plain": [
       "[<matplotlib.lines.Line2D at 0x7f0dfc7e7d30>]"
      ]
     },
     "execution_count": 98,
     "metadata": {},
     "output_type": "execute_result"
    },
    {
     "data": {
      "image/png": "[encoded data removed]",
      "text/plain": [
       "<matplotlib.figure.Figure at 0x7f0e0bfee4e0>"
      ]
     },
     "metadata": {},
     "output_type": "display_data"
    }
   ],
   "source": [
    "from matplotlib import pyplot as plt\n",
    "\n",
    "temp = float_data[:,1] # temperature\n",
    "\n",
    "plt.plot(range(len(temp)), temp)"
   ]
  },
  {
   "cell_type": "code",
   "execution_count": 99,
   "metadata": {},
   "outputs": [
    {
     "data": {
      "text/plain": [
       "[<matplotlib.lines.Line2D at 0x7f0dfcd04f28>]"
      ]
     },
     "execution_count": 99,
     "metadata": {},
     "output_type": "execute_result"
    },
    {
     "data": {
      "image/png": "[encoded data removed]",
      "text/plain": [
       "<matplotlib.figure.Figure at 0x7f0e0bfe9710>"
      ]
     },
     "metadata": {},
     "output_type": "display_data"
    }
   ],
   "source": [
    "plt.plot(range(1440), temp[:1440])"
   ]
  },
  {
   "cell_type": "code",
   "execution_count": 100,
   "metadata": {},
   "outputs": [],
   "source": [
    "lookback = 720 # 5 days back\n",
    "steps = 6 # sampled once every hour *Why?*\n",
    "delay = 144"
   ]
  },
  {
   "cell_type": "code",
   "execution_count": 101,
   "metadata": {},
   "outputs": [],
   "source": [
    "# Normalize the data .. Why?\n",
    "\n",
    "mean = float_data[:200000].mean(axis=0)\n",
    "float_data -= mean\n",
    "std =  float_data[:200000].std(axis=0)\n",
    "float_data /= std"
   ]
  },
  {
   "cell_type": "code",
   "execution_count": 102,
   "metadata": {},
   "outputs": [],
   "source": [
    "# Generator to yield samples and their targers\n",
    "\n",
    "def generator(data, lookback, delay, min_index, max_index, \n",
    "              shuffle=False, batch_size=128, step=6):\n",
    "    \n",
    "    if max_index is None:\n",
    "        max_index = len(data) - delay - 1\n",
    "    i = min_index + lookback\n",
    "    \n",
    "    while 1:\n",
    "        \n",
    "        if shuffle:\n",
    "            rows = np.random.randint(\n",
    "            min_index + lookback, max_index, size=batch_size)\n",
    "        else:\n",
    "            if i + batch_size >= max_index:\n",
    "                i = min_index + lookback\n",
    "            rows = np.arange(i, min(i + batch_size, max_index))\n",
    "            i += len(rows)\n",
    "            \n",
    "        samples = np.zeros((len(rows),\n",
    "                           lookback//step,\n",
    "                           data.shape[-1]))\n",
    "        \n",
    "        targets = np.zeros((len(rows),))\n",
    "        \n",
    "        for j, row in enumerate(rows):\n",
    "            indices = range(rows[j] - lookback, rows[j], step)\n",
    "            samples[j] = data[indices]\n",
    "            targets[j] = data[rows[j] + delay][1]\n",
    "            \n",
    "        yield samples, targets\n",
    "                \n"
   ]
  },
  {
   "cell_type": "code",
   "execution_count": 103,
   "metadata": {},
   "outputs": [],
   "source": [
    "lookback = 1440\n",
    "step = 6\n",
    "delay = 144\n",
    "batch_size = 128\n",
    "\n",
    "train_gen = generator(float_data,\n",
    "                     lookback = lookback,\n",
    "                     delay = delay,\n",
    "                     min_index = 0,\n",
    "                     max_index = 200000,\n",
    "                     shuffle = True,\n",
    "                     step = step,\n",
    "                     batch_size = batch_size)\n",
    "\n",
    "val_gen = generator(float_data,\n",
    "                     lookback = lookback,\n",
    "                     delay = delay,\n",
    "                     min_index = 200001,\n",
    "                     max_index = 300000,\n",
    "                     shuffle = False,\n",
    "                     step = step,\n",
    "                     batch_size = batch_size)\n",
    "\n",
    "train_gen = generator(float_data,\n",
    "                     lookback = lookback,\n",
    "                     delay = delay,\n",
    "                     min_index = 300001,\n",
    "                     max_index = None,\n",
    "                     shuffle = False,\n",
    "                     step = step,\n",
    "                     batch_size = batch_size)\n",
    "\n",
    "val_steps = (300000 - 200001 - lookback)\n",
    "test_steps = (len(float_data) - 300001 - lookback)\n"
   ]
  },
  {
   "cell_type": "code",
   "execution_count": 104,
   "metadata": {},
   "outputs": [
    {
     "name": "stdout",
     "output_type": "stream",
     "text": [
      "0.2896994197960971\n"
     ]
    }
   ],
   "source": [
    "# Commen sense approach (like unbalanced class etc.)\n",
    "\n",
    "def evaluate_naive_method():\n",
    "    batch_maes = []\n",
    "    for step in range(val_steps):\n",
    "        samples, targets = next(val_gen)\n",
    "        preds = samples[:, -1, 1]\n",
    "        mae = np.mean(np.abs(preds - targets))\n",
    "        batch_maes.append(mae)\n",
    "    \n",
    "    print(np.mean(batch_maes))\n",
    "    \n",
    "evaluate_naive_method()\n"
   ]
  },
  {
   "cell_type": "code",
   "execution_count": 113,
   "metadata": {},
   "outputs": [
    {
     "data": {
      "text/plain": [
       "2.567224733839344"
      ]
     },
     "execution_count": 113,
     "metadata": {},
     "output_type": "execute_result"
    }
   ],
   "source": [
    "std[1]*.29"
   ]
  },
  {
   "cell_type": "code",
   "execution_count": 114,
   "metadata": {},
   "outputs": [],
   "source": [
    "from keras.models import Sequential\n",
    "from keras import layers\n",
    "from keras.optimizers import RMSprop\n",
    "model = Sequential()\n",
    "model.add(layers.Flatten(input_shape=(lookback // step, float_data.shape[-1])))\n",
    "model.add(layers.Dense(32, activation='relu'))\n",
    "model.add(layers.Dense(1)) # no activation layer"
   ]
  },
  {
   "cell_type": "code",
   "execution_count": 115,
   "metadata": {},
   "outputs": [
    {
     "name": "stdout",
     "output_type": "stream",
     "text": [
      "Epoch 1/20\n",
      "500/500 [==============================] - 89s 179ms/step - loss: 11.4332 - val_loss: 2.9840\n",
      "Epoch 2/20\n",
      "500/500 [==============================] - 88s 175ms/step - loss: 2.2650 - val_loss: 2.9374\n",
      "Epoch 3/20\n",
      "500/500 [==============================] - 80s 159ms/step - loss: 6.9243 - val_loss: 4.7027\n",
      "Epoch 4/20\n",
      "500/500 [==============================] - 442s 885ms/step - loss: 1.5333 - val_loss: 0.9106\n",
      "Epoch 5/20\n",
      "500/500 [==============================] - 101s 203ms/step - loss: 4.5967 - val_loss: 1.4341\n",
      "Epoch 6/20\n",
      "500/500 [==============================] - 98s 196ms/step - loss: 0.7689 - val_loss: 0.6720\n",
      "Epoch 7/20\n",
      "500/500 [==============================] - 95s 190ms/step - loss: 1.7559 - val_loss: 0.5622\n",
      "Epoch 8/20\n",
      "500/500 [==============================] - 90s 180ms/step - loss: 0.4482 - val_loss: 1.0223\n",
      "Epoch 9/20\n",
      "500/500 [==============================] - 84s 169ms/step - loss: 1.0815 - val_loss: 0.4844\n",
      "Epoch 10/20\n",
      "500/500 [==============================] - 85s 170ms/step - loss: 0.7125 - val_loss: 0.4218\n",
      "Epoch 11/20\n",
      "500/500 [==============================] - 90s 180ms/step - loss: 0.3112 - val_loss: 0.5834\n",
      "Epoch 12/20\n",
      "500/500 [==============================] - 84s 168ms/step - loss: 0.6413 - val_loss: 0.4530\n",
      "Epoch 13/20\n",
      "500/500 [==============================] - 85s 170ms/step - loss: 0.2921 - val_loss: 0.7557\n",
      "Epoch 14/20\n",
      "500/500 [==============================] - 91s 181ms/step - loss: 0.6449 - val_loss: 0.6522\n",
      "Epoch 15/20\n",
      "500/500 [==============================] - 94s 188ms/step - loss: 0.2787 - val_loss: 0.5031\n",
      "Epoch 16/20\n",
      "500/500 [==============================] - 88s 176ms/step - loss: 0.6621 - val_loss: 0.6988\n",
      "Epoch 17/20\n",
      "500/500 [==============================] - 88s 175ms/step - loss: 0.2788 - val_loss: 0.7009\n",
      "Epoch 18/20\n",
      "500/500 [==============================] - 88s 176ms/step - loss: 0.6940 - val_loss: 0.4490\n",
      "Epoch 19/20\n",
      "500/500 [==============================] - 87s 175ms/step - loss: 0.2835 - val_loss: 0.4956\n",
      "Epoch 20/20\n",
      "500/500 [==============================] - 86s 172ms/step - loss: 0.7534 - val_loss: 0.6345\n"
     ]
    }
   ],
   "source": [
    "model.compile(optimizer=RMSprop(), loss='mae')\n",
    "history = model.fit_generator(train_gen,\n",
    "            steps_per_epoch=500,\n",
    "            epochs=20,\n",
    "            validation_data=val_gen,\n",
    "            validation_steps=1000) # or val_steps"
   ]
  },
  {
   "cell_type": "code",
   "execution_count": 15,
   "metadata": {},
   "outputs": [
    {
     "data": {
      "image/png": "[encoded data removed]",
      "text/plain": [
       "<matplotlib.figure.Figure at 0x7f0e1a73f400>"
      ]
     },
     "metadata": {},
     "output_type": "display_data"
    }
   ],
   "source": [
    "import matplotlib.pyplot as plt\n",
    "loss = history.history['loss']\n",
    "val_loss = history.history['val_loss']\n",
    "epochs = range(1, len(loss) + 1)\n",
    "plt.figure()\n",
    "plt.plot(epochs, loss, 'bo', label='Training loss')\n",
    "plt.plot(epochs, val_loss, 'b', label='Validation loss')\n",
    "plt.title('Training and validation loss')\n",
    "plt.legend()\n",
    "plt.show()\n"
   ]
  },
  {
   "cell_type": "code",
   "execution_count": null,
   "metadata": {},
   "outputs": [],
   "source": [
    "from keras.models import Sequential\n",
    "from keras import layers\n",
    "from keras.optimizers import RMSprop\n",
    "model = Sequential()\n",
    "model.add(layers.GRU(32, input_shape=(None, float_data.shape[-1])))\n",
    "model.add(layers.Dense(1))\n",
    "model.compile(optimizer=RMSprop(), loss='mae')\n",
    "history = model.fit_generator(train_gen,\n",
    "            steps_per_epoch=500,\n",
    "            epochs=20,\n",
    "            validation_data=val_gen,\n",
    "            validation_steps=1000) #val_steps)"
   ]
  },
  {
   "cell_type": "code",
   "execution_count": null,
   "metadata": {},
   "outputs": [],
   "source": [
    "import matplotlib.pyplot as plt\n",
    "loss = history.history['loss']\n",
    "val_loss = history.history['val_loss']\n",
    "epochs = range(1, len(loss) + 1)\n",
    "plt.figure()\n",
    "plt.plot(epochs, loss, 'bo', label='Training loss')\n",
    "plt.plot(epochs, val_loss, 'b', label='Validation loss')\n",
    "plt.title('Training and validation loss')\n",
    "plt.legend()\n",
    "plt.show()"
   ]
  },
  {
   "cell_type": "code",
   "execution_count": null,
   "metadata": {},
   "outputs": [],
   "source": [
    "from keras.models import Sequential\n",
    "from keras import layers\n",
    "from keras.optimizers import RMSprop\n",
    "model = Sequential()\n",
    "model.add(layers.GRU(32,\n",
    "dropout=0.2,\n",
    "recurrent_dropout=0.2,\n",
    "input_shape=(None, float_data.shape[-1])))\n",
    "model.add(layers.Dense(1))\n",
    "model.compile(optimizer=RMSprop(), loss='mae')\n",
    "history = model.fit_generator(train_gen,\n",
    "                steps_per_epoch=500,\n",
    "                epochs=40,\n",
    "                validation_data=val_gen,\n",
    "                validation_steps=100) #val_steps)"
   ]
  },
  {
   "cell_type": "code",
   "execution_count": null,
   "metadata": {},
   "outputs": [],
   "source": [
    "import matplotlib.pyplot as plt\n",
    "loss = history.history['loss']\n",
    "val_loss = history.history['val_loss']\n",
    "epochs = range(1, len(loss) + 1)\n",
    "plt.figure()\n",
    "plt.plot(epochs, loss, 'bo', label='Training loss')\n",
    "plt.plot(epochs, val_loss, 'b', label='Validation loss')\n",
    "plt.title('Training and validation loss')\n",
    "plt.legend()\n",
    "plt.show()"
   ]
  },
  {
   "cell_type": "code",
   "execution_count": null,
   "metadata": {},
   "outputs": [],
   "source": [
    "from keras.models import Sequential\n",
    "from keras import layers\n",
    "from keras.optimizers import RMSprop\n",
    "model = Sequential()\n",
    "model.add(layers.GRU(32,\n",
    "                    dropout=0.1,\n",
    "                    recurrent_dropout=0.5,\n",
    "                    return_sequences=True,\n",
    "                    input_shape=(None, float_data.shape[-1])))\n",
    "model.add(layers.GRU(64, activation='relu',\n",
    "                    dropout=0.1,\n",
    "                    recurrent_dropout=0.5))\n",
    "\n",
    "model.add(layers.Dense(1))\n",
    "model.compile(optimizer=RMSprop(), loss='mae')\n",
    "history = model.fit_generator(train_gen,\n",
    "                    steps_per_epoch=500,\n",
    "                    epochs=40,\n",
    "                    validation_data=val_gen,\n",
    "                    validation_steps=val_steps)"
   ]
  },
  {
   "cell_type": "code",
   "execution_count": null,
   "metadata": {},
   "outputs": [],
   "source": [
    "model = Sequential()\n",
    "model.add(layers.Embedding(max_features, 32))\n",
    "model.add(layers.Bidirectional(layers.LSTM(32)))\n",
    "model.add(layers.Dense(1, activation='sigmoid'))\n",
    "\n",
    "model.compile(optimizer='rmsprop', loss='binary_crossentropy', metrics=['acc'])\n",
    "history = model.fit(x_train, y_train,\n",
    "            epochs=10,\n",
    "            batch_size=128,\n",
    "            validation_split=0.2)"
   ]
  },
  {
   "cell_type": "code",
   "execution_count": null,
   "metadata": {},
   "outputs": [],
   "source": [
    "from keras.models import Sequential\n",
    "from keras import layers\n",
    "from keras.optimizers import RMSprop\n",
    "model = Sequential()\n",
    "model.add(layers.Bidirectional(\n",
    "        layers.GRU(32), input_shape=(None, float_data.shape[-1])))\n",
    "\n",
    "model.add(layers.Dense(1))\n",
    "model.compile(optimizer=RMSprop(), loss='mae')\n",
    "\n",
    "history = model.fit_generator(train_gen,\n",
    "            steps_per_epoch=500,\n",
    "            epochs=40,\n",
    "            validation_data=val_gen,\n",
    "            validation_steps=val_steps)\n"
   ]
  }
 ],
 "metadata": {
  "kernelspec": {
   "display_name": "Python 3",
   "language": "python",
   "name": "python3"
  },
  "language_info": {
   "codemirror_mode": {
    "name": "ipython",
    "version": 3
   },
   "file_extension": ".py",
   "mimetype": "text/x-python",
   "name": "python",
   "nbconvert_exporter": "python",
   "pygments_lexer": "ipython3",
   "version": "3.6.4"
  }
 },
 "nbformat": 4,
 "nbformat_minor": 2
}
