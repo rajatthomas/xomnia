{
 "cells": [
  {
   "cell_type": "code",
   "execution_count": 14,
   "metadata": {},
   "outputs": [],
   "source": [
    "import torch\n",
    "import torch.nn as nn\n",
    "import torch.nn.functional as F\n",
    "import torch.optim as optim\n",
    "from torch.autograd import Variable\n",
    "from torchvision import datasets, transforms\n",
    "\n",
    "import os\n",
    "import matplotlib.pyplot as plt"
   ]
  },
  {
   "cell_type": "code",
   "execution_count": 6,
   "metadata": {},
   "outputs": [],
   "source": [
    "class GMMN(nn.Module):\n",
    "    def __init__(self, n_start, n_out):\n",
    "        super(GMMN, self).__init__()\n",
    "        self.fc1 = nn.Linear(n_start, 64)\n",
    "        self.fc2 = nn.Linear(64, 256)\n",
    "        self.fc3 = nn.Linear(256, 256)\n",
    "        self.fc4 = nn.Linear(256, 784)\n",
    "        self.fc5 = nn.Linear(784, n_out)\n",
    "\n",
    "    def forward(self, samples):\n",
    "        x = F.relu(self.fc1(samples))\n",
    "        x = F.relu(self.fc2(x))\n",
    "        x = F.relu(self.fc3(x))\n",
    "        x = F.relu(self.fc4(x))\n",
    "        x = F.sigmoid(self.fc5(x))\n",
    "        return x"
   ]
  },
  {
   "cell_type": "code",
   "execution_count": 7,
   "metadata": {},
   "outputs": [],
   "source": [
    "class Autoencoder(nn.Module):\n",
    "    def __init__(self, n_inp, n_encoded):\n",
    "        super(Autoencoder, self).__init__()\n",
    "        self.encoder_fc1 = nn.Linear(n_inp, 1024)\n",
    "        self.encoder_fc2 = nn.Linear(1024, n_encoded)\n",
    "\n",
    "        self.decoder_fc1 = nn.Linear(n_encoded, 1024)\n",
    "        self.decoder_fc2 = nn.Linear(1024, n_inp)\n",
    "\n",
    "    def forward(self, x):\n",
    "        e = self.encode(x)\n",
    "        d = self.decode(e)\n",
    "        return e, d\n",
    "\n",
    "    def encode(self, x):\n",
    "        e = F.sigmoid(self.encoder_fc1(x))\n",
    "        e = F.sigmoid(self.encoder_fc2(e))\n",
    "        return e\n",
    "\n",
    "    def decode(self, x):\n",
    "        d = F.sigmoid(self.decoder_fc1(x))\n",
    "        d = F.sigmoid(self.decoder_fc2(d))\n",
    "        return d"
   ]
  },
  {
   "cell_type": "code",
   "execution_count": 8,
   "metadata": {},
   "outputs": [],
   "source": [
    "root = \"./data\"\n",
    "model = \"./models\"\n",
    "\n",
    "ENCODER_SAVE_PATH = model + \"/autoencoder.pth\"\n",
    "GMMN_SAVE_PATH = model + \"/gmmn.pth\"\n",
    "\n",
    "BATCH_SIZE = 100\n",
    "N_INP = 784\n",
    "NOISE_SIZE = 10\n",
    "ENCODED_SIZE = 32\n",
    "N_ENCODER_EPOCHS = 50\n",
    "N_GEN_EPOCHS = 100\n",
    "\n",
    "# visualization\n",
    "N_COLS = 8\n",
    "N_ROWS = 4"
   ]
  },
  {
   "cell_type": "code",
   "execution_count": 9,
   "metadata": {},
   "outputs": [
    {
     "name": "stdout",
     "output_type": "stream",
     "text": [
      "Downloading http://yann.lecun.com/exdb/mnist/train-images-idx3-ubyte.gz to ./data/MNIST/raw/train-images-idx3-ubyte.gz\n"
     ]
    },
    {
     "name": "stderr",
     "output_type": "stream",
     "text": [
      "100.1%"
     ]
    },
    {
     "name": "stdout",
     "output_type": "stream",
     "text": [
      "Extracting ./data/MNIST/raw/train-images-idx3-ubyte.gz\n"
     ]
    },
    {
     "name": "stderr",
     "output_type": "stream",
     "text": [
      "28.4%"
     ]
    },
    {
     "name": "stdout",
     "output_type": "stream",
     "text": [
      "Downloading http://yann.lecun.com/exdb/mnist/train-labels-idx1-ubyte.gz to ./data/MNIST/raw/train-labels-idx1-ubyte.gz\n"
     ]
    },
    {
     "name": "stderr",
     "output_type": "stream",
     "text": [
      "113.5%"
     ]
    },
    {
     "name": "stdout",
     "output_type": "stream",
     "text": [
      "Extracting ./data/MNIST/raw/train-labels-idx1-ubyte.gz\n",
      "Downloading http://yann.lecun.com/exdb/mnist/t10k-images-idx3-ubyte.gz to ./data/MNIST/raw/t10k-images-idx3-ubyte.gz\n"
     ]
    },
    {
     "name": "stderr",
     "output_type": "stream",
     "text": [
      "100.4%"
     ]
    },
    {
     "name": "stdout",
     "output_type": "stream",
     "text": [
      "Extracting ./data/MNIST/raw/t10k-images-idx3-ubyte.gz\n",
      "Downloading http://yann.lecun.com/exdb/mnist/t10k-labels-idx1-ubyte.gz to ./data/MNIST/raw/t10k-labels-idx1-ubyte.gz\n"
     ]
    },
    {
     "name": "stderr",
     "output_type": "stream",
     "text": [
      "180.4%"
     ]
    },
    {
     "name": "stdout",
     "output_type": "stream",
     "text": [
      "Extracting ./data/MNIST/raw/t10k-labels-idx1-ubyte.gz\n",
      "Processing...\n",
      "Done!\n"
     ]
    }
   ],
   "source": [
    "# Setup data and data loader\n",
    "if not os.path.exists(root):\n",
    "    os.mkdir(root)\n",
    "\n",
    "if not os.path.exists(model):\n",
    "    os.mkdir(model)\n",
    "\n",
    "# use gpu if available\n",
    "device = torch.device(\"cuda\" if torch.cuda.is_available() else \"cpu\")\n",
    "\n",
    "# dataloader\n",
    "trans = transforms.Compose([transforms.ToTensor()])\n",
    "train_set = datasets.MNIST(root=root, train=True, transform=trans, download=True)\n",
    "train_loader = torch.utils.data.DataLoader(\n",
    "        dataset=train_set,\n",
    "        batch_size=BATCH_SIZE,\n",
    "        shuffle=True)"
   ]
  },
  {
   "cell_type": "code",
   "execution_count": 11,
   "metadata": {},
   "outputs": [
    {
     "name": "stderr",
     "output_type": "stream",
     "text": [
      "/anaconda3/envs/torchenv/lib/python3.5/site-packages/torch/nn/functional.py:1101: UserWarning: nn.functional.sigmoid is deprecated. Use torch.sigmoid instead.\n",
      "  warnings.warn(\"nn.functional.sigmoid is deprecated. Use torch.sigmoid instead.\")\n"
     ]
    },
    {
     "name": "stdout",
     "output_type": "stream",
     "text": [
      "Autoencoder Training: Epoch - [ 1] complete, average loss - [4063.4407]\n",
      "Autoencoder Training: Epoch - [ 2] complete, average loss - [2386.5339]\n",
      "Autoencoder Training: Epoch - [ 3] complete, average loss - [1826.4986]\n",
      "Autoencoder Training: Epoch - [ 4] complete, average loss - [1532.3025]\n",
      "Autoencoder Training: Epoch - [ 5] complete, average loss - [1322.7790]\n",
      "Autoencoder Training: Epoch - [ 6] complete, average loss - [1173.2865]\n",
      "Autoencoder Training: Epoch - [ 7] complete, average loss - [1062.4136]\n",
      "Autoencoder Training: Epoch - [ 8] complete, average loss - [969.2863]\n",
      "Autoencoder Training: Epoch - [ 9] complete, average loss - [903.4435]\n",
      "Autoencoder Training: Epoch - [10] complete, average loss - [851.2480]\n",
      "Autoencoder Training: Epoch - [11] complete, average loss - [806.7884]\n",
      "Autoencoder Training: Epoch - [12] complete, average loss - [766.2498]\n",
      "Autoencoder Training: Epoch - [13] complete, average loss - [729.6790]\n",
      "Autoencoder Training: Epoch - [14] complete, average loss - [699.2093]\n",
      "Autoencoder Training: Epoch - [15] complete, average loss - [670.4651]\n",
      "Autoencoder Training: Epoch - [16] complete, average loss - [647.1817]\n",
      "Autoencoder Training: Epoch - [17] complete, average loss - [625.7428]\n",
      "Autoencoder Training: Epoch - [18] complete, average loss - [608.3524]\n",
      "Autoencoder Training: Epoch - [19] complete, average loss - [590.6233]\n",
      "Autoencoder Training: Epoch - [20] complete, average loss - [574.9546]\n",
      "Autoencoder Training: Epoch - [21] complete, average loss - [559.6473]\n",
      "Autoencoder Training: Epoch - [22] complete, average loss - [545.9822]\n",
      "Autoencoder Training: Epoch - [23] complete, average loss - [533.9158]\n",
      "Autoencoder Training: Epoch - [24] complete, average loss - [520.2320]\n",
      "Autoencoder Training: Epoch - [25] complete, average loss - [509.4297]\n",
      "Autoencoder Training: Epoch - [26] complete, average loss - [498.4372]\n",
      "Autoencoder Training: Epoch - [27] complete, average loss - [489.2023]\n",
      "Autoencoder Training: Epoch - [28] complete, average loss - [480.2457]\n",
      "Autoencoder Training: Epoch - [29] complete, average loss - [471.4164]\n",
      "Autoencoder Training: Epoch - [30] complete, average loss - [464.1847]\n",
      "Autoencoder Training: Epoch - [31] complete, average loss - [457.1756]\n",
      "Autoencoder Training: Epoch - [32] complete, average loss - [450.3288]\n",
      "Autoencoder Training: Epoch - [33] complete, average loss - [444.0316]\n",
      "Autoencoder Training: Epoch - [34] complete, average loss - [439.3837]\n",
      "Autoencoder Training: Epoch - [35] complete, average loss - [433.6350]\n",
      "Autoencoder Training: Epoch - [36] complete, average loss - [430.1344]\n",
      "Autoencoder Training: Epoch - [37] complete, average loss - [424.0352]\n",
      "Autoencoder Training: Epoch - [38] complete, average loss - [419.6619]\n",
      "Autoencoder Training: Epoch - [39] complete, average loss - [416.4829]\n",
      "Autoencoder Training: Epoch - [40] complete, average loss - [412.9233]\n",
      "Autoencoder Training: Epoch - [41] complete, average loss - [408.7285]\n",
      "Autoencoder Training: Epoch - [42] complete, average loss - [404.8941]\n",
      "Autoencoder Training: Epoch - [43] complete, average loss - [401.1984]\n",
      "Autoencoder Training: Epoch - [44] complete, average loss - [398.8286]\n",
      "Autoencoder Training: Epoch - [45] complete, average loss - [396.5018]\n",
      "Autoencoder Training: Epoch - [46] complete, average loss - [392.4796]\n",
      "Autoencoder Training: Epoch - [47] complete, average loss - [388.9970]\n",
      "Autoencoder Training: Epoch - [48] complete, average loss - [387.5206]\n",
      "Autoencoder Training: Epoch - [49] complete, average loss - [384.7180]\n",
      "Autoencoder Training: Epoch - [50] complete, average loss - [381.5770]\n",
      "Autoencoder has been successfully trained\n"
     ]
    }
   ],
   "source": [
    "# train the autoencoder first\n",
    "encoder_net = Autoencoder(N_INP, ENCODED_SIZE).to(device)\n",
    "encoder_optim = optim.Adam(encoder_net.parameters())\n",
    "\n",
    "if os.path.exists(ENCODER_SAVE_PATH):\n",
    "    encoder_net.load_state_dict(torch.load(ENCODER_SAVE_PATH))\n",
    "    print(\"Loaded saved autoencoder model\")\n",
    "else:\n",
    "    for ep in range(N_ENCODER_EPOCHS):\n",
    "        avg_loss = 0\n",
    "        for idx, (x, _) in enumerate(train_loader):\n",
    "            x = x.view(x.size()[0], -1)\n",
    "            x = Variable(x).to(device)\n",
    "            _, decoded = encoder_net(x)\n",
    "            loss = torch.sum((x - decoded) ** 2)\n",
    "            encoder_optim.zero_grad()\n",
    "            loss.backward()\n",
    "            encoder_optim.step()\n",
    "            avg_loss += loss.item()\n",
    "        avg_loss /= (idx + 1)\n",
    "\n",
    "        print(\"Autoencoder Training: Epoch - [%2d] complete, average loss - [%.4f]\" %(ep + 1, avg_loss))\n",
    "\n",
    "    torch.save(encoder_net.state_dict(), ENCODER_SAVE_PATH)\n",
    "\n",
    "print(\"Autoencoder has been successfully trained\")"
   ]
  },
  {
   "cell_type": "code",
   "execution_count": 12,
   "metadata": {},
   "outputs": [],
   "source": [
    "# define the GMMN\n",
    "gmm_net = GMMN(NOISE_SIZE, ENCODED_SIZE).to(device)\n",
    "if os.path.exists(GMMN_SAVE_PATH):\n",
    "    gmm_net.load_state_dict(torch.load(GMMN_SAVE_PATH))\n",
    "    print(\"Loaded previously saved GMM Network\")\n",
    "\n",
    "gmmn_optimizer = optim.Adam(gmm_net.parameters(), lr=0.001)\n",
    "\n",
    "def get_scale_matrix(M, N):\n",
    "    s1 = (torch.ones((N, 1)) * 1.0 / N).to(device)\n",
    "    s2 = (torch.ones((M, 1)) * -1.0 / M).to(device)\n",
    "    return torch.cat((s1, s2), 0)\n",
    "\n",
    "def train_one_step(x, samples, sigma=[1]):\n",
    "    samples = Variable(samples).to(device)\n",
    "    gen_samples = gmm_net(samples)\n",
    "    X = torch.cat((gen_samples, x), 0)\n",
    "    XX = torch.matmul(X, X.t())\n",
    "    X2 = torch.sum(X * X, 1, keepdim=True)\n",
    "    exp = XX - 0.5 * X2 - 0.5 * X2.t()\n",
    "\n",
    "    M = gen_samples.size()[0]\n",
    "    N = x.size()[0]\n",
    "    s = get_scale_matrix(M, N)\n",
    "    S = torch.matmul(s, s.t())\n",
    "\n",
    "    loss = 0\n",
    "    for v in sigma:\n",
    "        kernel_val = torch.exp(exp / v)\n",
    "        loss += torch.sum(S * kernel_val)\n",
    "\n",
    "    loss = torch.sqrt(loss)\n",
    "\n",
    "    gmmn_optimizer.zero_grad()\n",
    "    loss.backward()\n",
    "    gmmn_optimizer.step()\n",
    "\n",
    "    return loss"
   ]
  },
  {
   "cell_type": "code",
   "execution_count": 13,
   "metadata": {},
   "outputs": [
    {
     "name": "stderr",
     "output_type": "stream",
     "text": [
      "/anaconda3/envs/torchenv/lib/python3.5/site-packages/torch/nn/functional.py:1101: UserWarning: nn.functional.sigmoid is deprecated. Use torch.sigmoid instead.\n",
      "  warnings.warn(\"nn.functional.sigmoid is deprecated. Use torch.sigmoid instead.\")\n"
     ]
    },
    {
     "name": "stdout",
     "output_type": "stream",
     "text": [
      "GMMN Training: Epoch - [  0] complete, average loss - [0.2618]\n",
      "GMMN Training: Epoch - [  1] complete, average loss - [0.1746]\n",
      "GMMN Training: Epoch - [  2] complete, average loss - [0.1580]\n",
      "GMMN Training: Epoch - [  3] complete, average loss - [0.1518]\n",
      "GMMN Training: Epoch - [  4] complete, average loss - [0.1474]\n",
      "GMMN Training: Epoch - [  5] complete, average loss - [0.1449]\n",
      "GMMN Training: Epoch - [  6] complete, average loss - [0.1413]\n",
      "GMMN Training: Epoch - [  7] complete, average loss - [0.1408]\n",
      "GMMN Training: Epoch - [  8] complete, average loss - [0.1379]\n",
      "GMMN Training: Epoch - [  9] complete, average loss - [0.1361]\n",
      "GMMN Training: Epoch - [ 10] complete, average loss - [0.1364]\n",
      "GMMN Training: Epoch - [ 11] complete, average loss - [0.1354]\n",
      "GMMN Training: Epoch - [ 12] complete, average loss - [0.1346]\n",
      "GMMN Training: Epoch - [ 13] complete, average loss - [0.1333]\n",
      "GMMN Training: Epoch - [ 14] complete, average loss - [0.1328]\n",
      "GMMN Training: Epoch - [ 15] complete, average loss - [0.1311]\n",
      "GMMN Training: Epoch - [ 16] complete, average loss - [0.1311]\n",
      "GMMN Training: Epoch - [ 17] complete, average loss - [0.1301]\n",
      "GMMN Training: Epoch - [ 18] complete, average loss - [0.1305]\n",
      "GMMN Training: Epoch - [ 19] complete, average loss - [0.1301]\n",
      "GMMN Training: Epoch - [ 20] complete, average loss - [0.1303]\n",
      "GMMN Training: Epoch - [ 21] complete, average loss - [0.1285]\n",
      "GMMN Training: Epoch - [ 22] complete, average loss - [0.1287]\n",
      "GMMN Training: Epoch - [ 23] complete, average loss - [0.1281]\n",
      "GMMN Training: Epoch - [ 24] complete, average loss - [0.1282]\n",
      "GMMN Training: Epoch - [ 25] complete, average loss - [0.1280]\n",
      "GMMN Training: Epoch - [ 26] complete, average loss - [0.1277]\n",
      "GMMN Training: Epoch - [ 27] complete, average loss - [0.1268]\n",
      "GMMN Training: Epoch - [ 28] complete, average loss - [0.1273]\n",
      "GMMN Training: Epoch - [ 29] complete, average loss - [0.1267]\n",
      "GMMN Training: Epoch - [ 30] complete, average loss - [0.1262]\n",
      "GMMN Training: Epoch - [ 31] complete, average loss - [0.1261]\n",
      "GMMN Training: Epoch - [ 32] complete, average loss - [0.1270]\n",
      "GMMN Training: Epoch - [ 33] complete, average loss - [0.1253]\n",
      "GMMN Training: Epoch - [ 34] complete, average loss - [0.1269]\n",
      "GMMN Training: Epoch - [ 35] complete, average loss - [0.1268]\n",
      "GMMN Training: Epoch - [ 36] complete, average loss - [0.1259]\n",
      "GMMN Training: Epoch - [ 37] complete, average loss - [0.1264]\n",
      "GMMN Training: Epoch - [ 38] complete, average loss - [0.1265]\n",
      "GMMN Training: Epoch - [ 39] complete, average loss - [0.1250]\n",
      "GMMN Training: Epoch - [ 40] complete, average loss - [0.1251]\n",
      "GMMN Training: Epoch - [ 41] complete, average loss - [0.1256]\n",
      "GMMN Training: Epoch - [ 42] complete, average loss - [0.1253]\n",
      "GMMN Training: Epoch - [ 43] complete, average loss - [0.1253]\n",
      "GMMN Training: Epoch - [ 44] complete, average loss - [0.1261]\n",
      "GMMN Training: Epoch - [ 45] complete, average loss - [0.1246]\n",
      "GMMN Training: Epoch - [ 46] complete, average loss - [0.1254]\n",
      "GMMN Training: Epoch - [ 47] complete, average loss - [0.1248]\n",
      "GMMN Training: Epoch - [ 48] complete, average loss - [0.1264]\n",
      "GMMN Training: Epoch - [ 49] complete, average loss - [0.1244]\n",
      "GMMN Training: Epoch - [ 50] complete, average loss - [0.1253]\n",
      "GMMN Training: Epoch - [ 51] complete, average loss - [0.1257]\n",
      "GMMN Training: Epoch - [ 52] complete, average loss - [0.1252]\n",
      "GMMN Training: Epoch - [ 53] complete, average loss - [0.1252]\n",
      "GMMN Training: Epoch - [ 54] complete, average loss - [0.1241]\n",
      "GMMN Training: Epoch - [ 55] complete, average loss - [0.1249]\n",
      "GMMN Training: Epoch - [ 56] complete, average loss - [0.1243]\n",
      "GMMN Training: Epoch - [ 57] complete, average loss - [0.1242]\n",
      "GMMN Training: Epoch - [ 58] complete, average loss - [0.1256]\n",
      "GMMN Training: Epoch - [ 59] complete, average loss - [0.1242]\n",
      "GMMN Training: Epoch - [ 60] complete, average loss - [0.1252]\n",
      "GMMN Training: Epoch - [ 61] complete, average loss - [0.1246]\n",
      "GMMN Training: Epoch - [ 62] complete, average loss - [0.1250]\n",
      "GMMN Training: Epoch - [ 63] complete, average loss - [0.1242]\n",
      "GMMN Training: Epoch - [ 64] complete, average loss - [0.1243]\n",
      "GMMN Training: Epoch - [ 65] complete, average loss - [0.1243]\n",
      "GMMN Training: Epoch - [ 66] complete, average loss - [0.1242]\n",
      "GMMN Training: Epoch - [ 67] complete, average loss - [0.1244]\n",
      "GMMN Training: Epoch - [ 68] complete, average loss - [0.1249]\n",
      "GMMN Training: Epoch - [ 69] complete, average loss - [0.1238]\n",
      "GMMN Training: Epoch - [ 70] complete, average loss - [0.1248]\n",
      "GMMN Training: Epoch - [ 71] complete, average loss - [0.1234]\n",
      "GMMN Training: Epoch - [ 72] complete, average loss - [0.1238]\n",
      "GMMN Training: Epoch - [ 73] complete, average loss - [0.1237]\n",
      "GMMN Training: Epoch - [ 74] complete, average loss - [0.1241]\n",
      "GMMN Training: Epoch - [ 75] complete, average loss - [0.1229]\n",
      "GMMN Training: Epoch - [ 76] complete, average loss - [0.1238]\n",
      "GMMN Training: Epoch - [ 77] complete, average loss - [0.1246]\n",
      "GMMN Training: Epoch - [ 78] complete, average loss - [0.1234]\n",
      "GMMN Training: Epoch - [ 79] complete, average loss - [0.1240]\n",
      "GMMN Training: Epoch - [ 80] complete, average loss - [0.1248]\n",
      "GMMN Training: Epoch - [ 81] complete, average loss - [0.1240]\n",
      "GMMN Training: Epoch - [ 82] complete, average loss - [0.1234]\n",
      "GMMN Training: Epoch - [ 83] complete, average loss - [0.1240]\n",
      "GMMN Training: Epoch - [ 84] complete, average loss - [0.1232]\n",
      "GMMN Training: Epoch - [ 85] complete, average loss - [0.1245]\n",
      "GMMN Training: Epoch - [ 86] complete, average loss - [0.1236]\n",
      "GMMN Training: Epoch - [ 87] complete, average loss - [0.1229]\n",
      "GMMN Training: Epoch - [ 88] complete, average loss - [0.1231]\n",
      "GMMN Training: Epoch - [ 89] complete, average loss - [0.1239]\n",
      "GMMN Training: Epoch - [ 90] complete, average loss - [0.1235]\n",
      "GMMN Training: Epoch - [ 91] complete, average loss - [0.1233]\n",
      "GMMN Training: Epoch - [ 92] complete, average loss - [0.1239]\n",
      "GMMN Training: Epoch - [ 93] complete, average loss - [0.1233]\n",
      "GMMN Training: Epoch - [ 94] complete, average loss - [0.1226]\n",
      "GMMN Training: Epoch - [ 95] complete, average loss - [0.1232]\n",
      "GMMN Training: Epoch - [ 96] complete, average loss - [0.1231]\n",
      "GMMN Training: Epoch - [ 97] complete, average loss - [0.1236]\n",
      "GMMN Training: Epoch - [ 98] complete, average loss - [0.1227]\n",
      "GMMN Training: Epoch - [ 99] complete, average loss - [0.1227]\n"
     ]
    }
   ],
   "source": [
    "# training loop\n",
    "for ep in range(N_GEN_EPOCHS):\n",
    "    avg_loss = 0\n",
    "    for idx, (x, _) in enumerate(train_loader):\n",
    "        x = x.view(x.size()[0], -1)\n",
    "        with torch.no_grad():\n",
    "            x = Variable(x).to(device)\n",
    "            encoded_x = encoder_net.encode(x)\n",
    "\n",
    "        # uniform random noise between [-1, 1]\n",
    "        random_noise = torch.rand((BATCH_SIZE, NOISE_SIZE)) * 2 - 1\n",
    "        loss = train_one_step(encoded_x, random_noise)\n",
    "        avg_loss += loss.item()\n",
    "\n",
    "    avg_loss /= (idx + 1)\n",
    "    print(\"GMMN Training: Epoch - [%3d] complete, average loss - [%.4f]\" %(ep, avg_loss))\n",
    "\n",
    "torch.save(gmm_net.state_dict(), GMMN_SAVE_PATH)"
   ]
  },
  {
   "cell_type": "code",
   "execution_count": 16,
   "metadata": {},
   "outputs": [
    {
     "name": "stdout",
     "output_type": "stream",
     "text": [
      "Comparision of outputs generated by autoencoder\n"
     ]
    },
    {
     "name": "stderr",
     "output_type": "stream",
     "text": [
      "/anaconda3/envs/torchenv/lib/python3.5/site-packages/torch/nn/functional.py:1101: UserWarning: nn.functional.sigmoid is deprecated. Use torch.sigmoid instead.\n",
      "  warnings.warn(\"nn.functional.sigmoid is deprecated. Use torch.sigmoid instead.\")\n"
     ]
    },
    {
     "data": {
      "image/png": "[encoded data removed]",
      "text/plain": [
       "<Figure size 432x288 with 64 Axes>"
      ]
     },
     "metadata": {
      "needs_background": "light"
     },
     "output_type": "display_data"
    }
   ],
   "source": [
    "\n",
    "\n",
    "trans = transforms.Compose([transforms.ToTensor()])\n",
    "test_set = datasets.MNIST(root=root, train=False, transform=trans, download=True)\n",
    "view_data = [test_set[i][0] for i in range(N_ROWS * N_COLS)]\n",
    "\n",
    "encoder_net = Autoencoder(N_INP, ENCODED_SIZE)\n",
    "encoder_net.load_state_dict(torch.load(ENCODER_SAVE_PATH))\n",
    "\n",
    "plt.gray()\n",
    "\n",
    "to_visualize = \"autoencoder\" # \"gmmn\" or \"autoencoder\"\n",
    "if to_visualize == \"autoencoder\":\n",
    "    print(\"Comparision of outputs generated by autoencoder\")\n",
    "    for i in range(N_ROWS * N_COLS):\n",
    "        # original image\n",
    "        r = i // N_COLS\n",
    "        c = i % N_COLS + 1\n",
    "        ax = plt.subplot(2 * N_ROWS, N_COLS, 2 * r * N_COLS + c)\n",
    "        plt.imshow(view_data[i].squeeze())\n",
    "        plt.gray()\n",
    "        ax.get_xaxis().set_visible(False)\n",
    "        ax.get_yaxis().set_visible(False)\n",
    "\n",
    "        # reconstructed image\n",
    "        ax = plt.subplot(2 * N_ROWS, N_COLS, 2 * r * N_COLS + c + N_COLS)\n",
    "        x = Variable(view_data[i])\n",
    "        _, y = encoder_net(x.view(1, -1))\n",
    "        plt.imshow(y.detach().squeeze().numpy().reshape(28, 28))\n",
    "        ax.get_xaxis().set_visible(False)\n",
    "        ax.get_yaxis().set_visible(False)\n",
    "\n",
    "elif to_visualize == \"gmmn\":\n",
    "    print(\"Images generated by GMMN\")\n",
    "    gmm_net = GMMN(NOISE_SIZE, ENCODED_SIZE)\n",
    "    gmm_net.load_state_dict(torch.load(GMMN_SAVE_PATH))\n",
    "\n",
    "    for r in range(N_ROWS):\n",
    "        for c in range(N_COLS):\n",
    "            ax = plt.subplot(N_ROWS, N_COLS, r * N_COLS + c + 1)\n",
    "\n",
    "            noise = torch.rand((1, NOISE_SIZE)) * 2 - 1\n",
    "            encoded_x = gmm_net(Variable(noise))\n",
    "            y = encoder_net.decode(encoded_x)\n",
    "\n",
    "            plt.imshow(y.detach().squeeze().numpy().reshape(28, 28))\n",
    "            ax.get_xaxis().set_visible(False)\n",
    "            ax.get_yaxis().set_visible(False)\n",
    "plt.show()"
   ]
  },
  {
   "cell_type": "code",
   "execution_count": null,
   "metadata": {},
   "outputs": [],
   "source": []
  }
 ],
 "metadata": {
  "kernelspec": {
   "display_name": "Python 3",
   "language": "python",
   "name": "python3"
  },
  "language_info": {
   "codemirror_mode": {
    "name": "ipython",
    "version": 3
   },
   "file_extension": ".py",
   "mimetype": "text/x-python",
   "name": "python",
   "nbconvert_exporter": "python",
   "pygments_lexer": "ipython3",
   "version": "3.5.6"
  }
 },
 "nbformat": 4,
 "nbformat_minor": 2
}
